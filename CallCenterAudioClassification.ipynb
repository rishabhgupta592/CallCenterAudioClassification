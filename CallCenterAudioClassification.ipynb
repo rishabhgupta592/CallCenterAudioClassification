{
  "nbformat": 4,
  "nbformat_minor": 0,
  "metadata": {
    "colab": {
      "name": "CallCenterAudioClassification.ipynb",
      "provenance": [],
      "collapsed_sections": [],
      "authorship_tag": "ABX9TyMnZetlAvHpDmHzt3CFsQ/V",
      "include_colab_link": true
    },
    "kernelspec": {
      "name": "python3",
      "display_name": "Python 3"
    },
    "language_info": {
      "name": "python"
    },
    "widgets": {
      "application/vnd.jupyter.widget-state+json": {
        "410170c100704dc1b827894bfca186f8": {
          "model_module": "@jupyter-widgets/controls",
          "model_name": "HBoxModel",
          "state": {
            "_view_name": "HBoxView",
            "_dom_classes": [],
            "_model_name": "HBoxModel",
            "_view_module": "@jupyter-widgets/controls",
            "_model_module_version": "1.5.0",
            "_view_count": null,
            "_view_module_version": "1.5.0",
            "box_style": "",
            "layout": "IPY_MODEL_8ad9f4ddfbba4d9ab98cfdc640b31d1f",
            "_model_module": "@jupyter-widgets/controls",
            "children": [
              "IPY_MODEL_ba8b0fcb94524373b0431933a8aeb00f",
              "IPY_MODEL_c3f1015384a6465189ea581322a5e251"
            ]
          }
        },
        "8ad9f4ddfbba4d9ab98cfdc640b31d1f": {
          "model_module": "@jupyter-widgets/base",
          "model_name": "LayoutModel",
          "state": {
            "_view_name": "LayoutView",
            "grid_template_rows": null,
            "right": null,
            "justify_content": null,
            "_view_module": "@jupyter-widgets/base",
            "overflow": null,
            "_model_module_version": "1.2.0",
            "_view_count": null,
            "flex_flow": null,
            "width": null,
            "min_width": null,
            "border": null,
            "align_items": null,
            "bottom": null,
            "_model_module": "@jupyter-widgets/base",
            "top": null,
            "grid_column": null,
            "overflow_y": null,
            "overflow_x": null,
            "grid_auto_flow": null,
            "grid_area": null,
            "grid_template_columns": null,
            "flex": null,
            "_model_name": "LayoutModel",
            "justify_items": null,
            "grid_row": null,
            "max_height": null,
            "align_content": null,
            "visibility": null,
            "align_self": null,
            "height": null,
            "min_height": null,
            "padding": null,
            "grid_auto_rows": null,
            "grid_gap": null,
            "max_width": null,
            "order": null,
            "_view_module_version": "1.2.0",
            "grid_template_areas": null,
            "object_position": null,
            "object_fit": null,
            "grid_auto_columns": null,
            "margin": null,
            "display": null,
            "left": null
          }
        },
        "ba8b0fcb94524373b0431933a8aeb00f": {
          "model_module": "@jupyter-widgets/controls",
          "model_name": "FloatProgressModel",
          "state": {
            "_view_name": "ProgressView",
            "style": "IPY_MODEL_580ac149dbea4cc19383bf28939d0367",
            "_dom_classes": [],
            "description": "",
            "_model_name": "FloatProgressModel",
            "bar_style": "success",
            "max": 1,
            "_view_module": "@jupyter-widgets/controls",
            "_model_module_version": "1.5.0",
            "value": 0,
            "_view_count": null,
            "_view_module_version": "1.5.0",
            "orientation": "horizontal",
            "min": 0,
            "description_tooltip": null,
            "_model_module": "@jupyter-widgets/controls",
            "layout": "IPY_MODEL_7e9f762c5909408f8b26fdd529d6e293"
          }
        },
        "c3f1015384a6465189ea581322a5e251": {
          "model_module": "@jupyter-widgets/controls",
          "model_name": "HTMLModel",
          "state": {
            "_view_name": "HTMLView",
            "style": "IPY_MODEL_6bc9518930d84c9d849c80facd579179",
            "_dom_classes": [],
            "description": "",
            "_model_name": "HTMLModel",
            "placeholder": "​",
            "_view_module": "@jupyter-widgets/controls",
            "_model_module_version": "1.5.0",
            "value": " 0/? [00:00&lt;?, ?it/s]",
            "_view_count": null,
            "_view_module_version": "1.5.0",
            "description_tooltip": null,
            "_model_module": "@jupyter-widgets/controls",
            "layout": "IPY_MODEL_e1060fa47a4643b3a08a0503f378d83c"
          }
        },
        "580ac149dbea4cc19383bf28939d0367": {
          "model_module": "@jupyter-widgets/controls",
          "model_name": "ProgressStyleModel",
          "state": {
            "_view_name": "StyleView",
            "_model_name": "ProgressStyleModel",
            "description_width": "initial",
            "_view_module": "@jupyter-widgets/base",
            "_model_module_version": "1.5.0",
            "_view_count": null,
            "_view_module_version": "1.2.0",
            "bar_color": null,
            "_model_module": "@jupyter-widgets/controls"
          }
        },
        "7e9f762c5909408f8b26fdd529d6e293": {
          "model_module": "@jupyter-widgets/base",
          "model_name": "LayoutModel",
          "state": {
            "_view_name": "LayoutView",
            "grid_template_rows": null,
            "right": null,
            "justify_content": null,
            "_view_module": "@jupyter-widgets/base",
            "overflow": null,
            "_model_module_version": "1.2.0",
            "_view_count": null,
            "flex_flow": null,
            "width": null,
            "min_width": null,
            "border": null,
            "align_items": null,
            "bottom": null,
            "_model_module": "@jupyter-widgets/base",
            "top": null,
            "grid_column": null,
            "overflow_y": null,
            "overflow_x": null,
            "grid_auto_flow": null,
            "grid_area": null,
            "grid_template_columns": null,
            "flex": null,
            "_model_name": "LayoutModel",
            "justify_items": null,
            "grid_row": null,
            "max_height": null,
            "align_content": null,
            "visibility": null,
            "align_self": null,
            "height": null,
            "min_height": null,
            "padding": null,
            "grid_auto_rows": null,
            "grid_gap": null,
            "max_width": null,
            "order": null,
            "_view_module_version": "1.2.0",
            "grid_template_areas": null,
            "object_position": null,
            "object_fit": null,
            "grid_auto_columns": null,
            "margin": null,
            "display": null,
            "left": null
          }
        },
        "6bc9518930d84c9d849c80facd579179": {
          "model_module": "@jupyter-widgets/controls",
          "model_name": "DescriptionStyleModel",
          "state": {
            "_view_name": "StyleView",
            "_model_name": "DescriptionStyleModel",
            "description_width": "",
            "_view_module": "@jupyter-widgets/base",
            "_model_module_version": "1.5.0",
            "_view_count": null,
            "_view_module_version": "1.2.0",
            "_model_module": "@jupyter-widgets/controls"
          }
        },
        "e1060fa47a4643b3a08a0503f378d83c": {
          "model_module": "@jupyter-widgets/base",
          "model_name": "LayoutModel",
          "state": {
            "_view_name": "LayoutView",
            "grid_template_rows": null,
            "right": null,
            "justify_content": null,
            "_view_module": "@jupyter-widgets/base",
            "overflow": null,
            "_model_module_version": "1.2.0",
            "_view_count": null,
            "flex_flow": null,
            "width": null,
            "min_width": null,
            "border": null,
            "align_items": null,
            "bottom": null,
            "_model_module": "@jupyter-widgets/base",
            "top": null,
            "grid_column": null,
            "overflow_y": null,
            "overflow_x": null,
            "grid_auto_flow": null,
            "grid_area": null,
            "grid_template_columns": null,
            "flex": null,
            "_model_name": "LayoutModel",
            "justify_items": null,
            "grid_row": null,
            "max_height": null,
            "align_content": null,
            "visibility": null,
            "align_self": null,
            "height": null,
            "min_height": null,
            "padding": null,
            "grid_auto_rows": null,
            "grid_gap": null,
            "max_width": null,
            "order": null,
            "_view_module_version": "1.2.0",
            "grid_template_areas": null,
            "object_position": null,
            "object_fit": null,
            "grid_auto_columns": null,
            "margin": null,
            "display": null,
            "left": null
          }
        },
        "2e5fa4553e504114a374b1350d3a60c5": {
          "model_module": "@jupyter-widgets/controls",
          "model_name": "HBoxModel",
          "state": {
            "_view_name": "HBoxView",
            "_dom_classes": [],
            "_model_name": "HBoxModel",
            "_view_module": "@jupyter-widgets/controls",
            "_model_module_version": "1.5.0",
            "_view_count": null,
            "_view_module_version": "1.5.0",
            "box_style": "",
            "layout": "IPY_MODEL_5df38ba892e74eaba029b28eeeda0b22",
            "_model_module": "@jupyter-widgets/controls",
            "children": [
              "IPY_MODEL_28cda449ce0c430eb530a88cdd68ace5",
              "IPY_MODEL_60d0812f413b44339d8435e748f6ff37"
            ]
          }
        },
        "5df38ba892e74eaba029b28eeeda0b22": {
          "model_module": "@jupyter-widgets/base",
          "model_name": "LayoutModel",
          "state": {
            "_view_name": "LayoutView",
            "grid_template_rows": null,
            "right": null,
            "justify_content": null,
            "_view_module": "@jupyter-widgets/base",
            "overflow": null,
            "_model_module_version": "1.2.0",
            "_view_count": null,
            "flex_flow": null,
            "width": null,
            "min_width": null,
            "border": null,
            "align_items": null,
            "bottom": null,
            "_model_module": "@jupyter-widgets/base",
            "top": null,
            "grid_column": null,
            "overflow_y": null,
            "overflow_x": null,
            "grid_auto_flow": null,
            "grid_area": null,
            "grid_template_columns": null,
            "flex": null,
            "_model_name": "LayoutModel",
            "justify_items": null,
            "grid_row": null,
            "max_height": null,
            "align_content": null,
            "visibility": null,
            "align_self": null,
            "height": null,
            "min_height": null,
            "padding": null,
            "grid_auto_rows": null,
            "grid_gap": null,
            "max_width": null,
            "order": null,
            "_view_module_version": "1.2.0",
            "grid_template_areas": null,
            "object_position": null,
            "object_fit": null,
            "grid_auto_columns": null,
            "margin": null,
            "display": null,
            "left": null
          }
        },
        "28cda449ce0c430eb530a88cdd68ace5": {
          "model_module": "@jupyter-widgets/controls",
          "model_name": "FloatProgressModel",
          "state": {
            "_view_name": "ProgressView",
            "style": "IPY_MODEL_e03a28a7ea774d88a96b5fa0777ad9e3",
            "_dom_classes": [],
            "description": "100%",
            "_model_name": "FloatProgressModel",
            "bar_style": "success",
            "max": 240,
            "_view_module": "@jupyter-widgets/controls",
            "_model_module_version": "1.5.0",
            "value": 240,
            "_view_count": null,
            "_view_module_version": "1.5.0",
            "orientation": "horizontal",
            "min": 0,
            "description_tooltip": null,
            "_model_module": "@jupyter-widgets/controls",
            "layout": "IPY_MODEL_8696e4bf2a434ca79980739c3a2f27c2"
          }
        },
        "60d0812f413b44339d8435e748f6ff37": {
          "model_module": "@jupyter-widgets/controls",
          "model_name": "HTMLModel",
          "state": {
            "_view_name": "HTMLView",
            "style": "IPY_MODEL_45a2b6d12a3241a9b1a7c84111d70fe2",
            "_dom_classes": [],
            "description": "",
            "_model_name": "HTMLModel",
            "placeholder": "​",
            "_view_module": "@jupyter-widgets/controls",
            "_model_module_version": "1.5.0",
            "value": " 240/240 [00:01&lt;00:00, 189.66it/s]",
            "_view_count": null,
            "_view_module_version": "1.5.0",
            "description_tooltip": null,
            "_model_module": "@jupyter-widgets/controls",
            "layout": "IPY_MODEL_178c46dc690d4e87835a32e030b282b9"
          }
        },
        "e03a28a7ea774d88a96b5fa0777ad9e3": {
          "model_module": "@jupyter-widgets/controls",
          "model_name": "ProgressStyleModel",
          "state": {
            "_view_name": "StyleView",
            "_model_name": "ProgressStyleModel",
            "description_width": "initial",
            "_view_module": "@jupyter-widgets/base",
            "_model_module_version": "1.5.0",
            "_view_count": null,
            "_view_module_version": "1.2.0",
            "bar_color": null,
            "_model_module": "@jupyter-widgets/controls"
          }
        },
        "8696e4bf2a434ca79980739c3a2f27c2": {
          "model_module": "@jupyter-widgets/base",
          "model_name": "LayoutModel",
          "state": {
            "_view_name": "LayoutView",
            "grid_template_rows": null,
            "right": null,
            "justify_content": null,
            "_view_module": "@jupyter-widgets/base",
            "overflow": null,
            "_model_module_version": "1.2.0",
            "_view_count": null,
            "flex_flow": null,
            "width": null,
            "min_width": null,
            "border": null,
            "align_items": null,
            "bottom": null,
            "_model_module": "@jupyter-widgets/base",
            "top": null,
            "grid_column": null,
            "overflow_y": null,
            "overflow_x": null,
            "grid_auto_flow": null,
            "grid_area": null,
            "grid_template_columns": null,
            "flex": null,
            "_model_name": "LayoutModel",
            "justify_items": null,
            "grid_row": null,
            "max_height": null,
            "align_content": null,
            "visibility": null,
            "align_self": null,
            "height": null,
            "min_height": null,
            "padding": null,
            "grid_auto_rows": null,
            "grid_gap": null,
            "max_width": null,
            "order": null,
            "_view_module_version": "1.2.0",
            "grid_template_areas": null,
            "object_position": null,
            "object_fit": null,
            "grid_auto_columns": null,
            "margin": null,
            "display": null,
            "left": null
          }
        },
        "45a2b6d12a3241a9b1a7c84111d70fe2": {
          "model_module": "@jupyter-widgets/controls",
          "model_name": "DescriptionStyleModel",
          "state": {
            "_view_name": "StyleView",
            "_model_name": "DescriptionStyleModel",
            "description_width": "",
            "_view_module": "@jupyter-widgets/base",
            "_model_module_version": "1.5.0",
            "_view_count": null,
            "_view_module_version": "1.2.0",
            "_model_module": "@jupyter-widgets/controls"
          }
        },
        "178c46dc690d4e87835a32e030b282b9": {
          "model_module": "@jupyter-widgets/base",
          "model_name": "LayoutModel",
          "state": {
            "_view_name": "LayoutView",
            "grid_template_rows": null,
            "right": null,
            "justify_content": null,
            "_view_module": "@jupyter-widgets/base",
            "overflow": null,
            "_model_module_version": "1.2.0",
            "_view_count": null,
            "flex_flow": null,
            "width": null,
            "min_width": null,
            "border": null,
            "align_items": null,
            "bottom": null,
            "_model_module": "@jupyter-widgets/base",
            "top": null,
            "grid_column": null,
            "overflow_y": null,
            "overflow_x": null,
            "grid_auto_flow": null,
            "grid_area": null,
            "grid_template_columns": null,
            "flex": null,
            "_model_name": "LayoutModel",
            "justify_items": null,
            "grid_row": null,
            "max_height": null,
            "align_content": null,
            "visibility": null,
            "align_self": null,
            "height": null,
            "min_height": null,
            "padding": null,
            "grid_auto_rows": null,
            "grid_gap": null,
            "max_width": null,
            "order": null,
            "_view_module_version": "1.2.0",
            "grid_template_areas": null,
            "object_position": null,
            "object_fit": null,
            "grid_auto_columns": null,
            "margin": null,
            "display": null,
            "left": null
          }
        },
        "89926923801046568da5cf49f64ec60e": {
          "model_module": "@jupyter-widgets/controls",
          "model_name": "HBoxModel",
          "state": {
            "_view_name": "HBoxView",
            "_dom_classes": [],
            "_model_name": "HBoxModel",
            "_view_module": "@jupyter-widgets/controls",
            "_model_module_version": "1.5.0",
            "_view_count": null,
            "_view_module_version": "1.5.0",
            "box_style": "",
            "layout": "IPY_MODEL_64c46fdb06fb4ea6a0effa869b3facf2",
            "_model_module": "@jupyter-widgets/controls",
            "children": [
              "IPY_MODEL_917136469d3847fda37c9c110629ece7",
              "IPY_MODEL_75e8cdd096c14104ab2dd8a8b1ad1062"
            ]
          }
        },
        "64c46fdb06fb4ea6a0effa869b3facf2": {
          "model_module": "@jupyter-widgets/base",
          "model_name": "LayoutModel",
          "state": {
            "_view_name": "LayoutView",
            "grid_template_rows": null,
            "right": null,
            "justify_content": null,
            "_view_module": "@jupyter-widgets/base",
            "overflow": null,
            "_model_module_version": "1.2.0",
            "_view_count": null,
            "flex_flow": null,
            "width": null,
            "min_width": null,
            "border": null,
            "align_items": null,
            "bottom": null,
            "_model_module": "@jupyter-widgets/base",
            "top": null,
            "grid_column": null,
            "overflow_y": null,
            "overflow_x": null,
            "grid_auto_flow": null,
            "grid_area": null,
            "grid_template_columns": null,
            "flex": null,
            "_model_name": "LayoutModel",
            "justify_items": null,
            "grid_row": null,
            "max_height": null,
            "align_content": null,
            "visibility": null,
            "align_self": null,
            "height": null,
            "min_height": null,
            "padding": null,
            "grid_auto_rows": null,
            "grid_gap": null,
            "max_width": null,
            "order": null,
            "_view_module_version": "1.2.0",
            "grid_template_areas": null,
            "object_position": null,
            "object_fit": null,
            "grid_auto_columns": null,
            "margin": null,
            "display": null,
            "left": null
          }
        },
        "917136469d3847fda37c9c110629ece7": {
          "model_module": "@jupyter-widgets/controls",
          "model_name": "FloatProgressModel",
          "state": {
            "_view_name": "ProgressView",
            "style": "IPY_MODEL_dcd8598c7bc54b8592607d3a59631e2d",
            "_dom_classes": [],
            "description": "Downloading: 100%",
            "_model_name": "FloatProgressModel",
            "bar_style": "success",
            "max": 1154,
            "_view_module": "@jupyter-widgets/controls",
            "_model_module_version": "1.5.0",
            "value": 1154,
            "_view_count": null,
            "_view_module_version": "1.5.0",
            "orientation": "horizontal",
            "min": 0,
            "description_tooltip": null,
            "_model_module": "@jupyter-widgets/controls",
            "layout": "IPY_MODEL_45a0ccf903d049598db11c8849b2f3cb"
          }
        },
        "75e8cdd096c14104ab2dd8a8b1ad1062": {
          "model_module": "@jupyter-widgets/controls",
          "model_name": "HTMLModel",
          "state": {
            "_view_name": "HTMLView",
            "style": "IPY_MODEL_1733bf9eb0424f42867371e4c74e4ae0",
            "_dom_classes": [],
            "description": "",
            "_model_name": "HTMLModel",
            "placeholder": "​",
            "_view_module": "@jupyter-widgets/controls",
            "_model_module_version": "1.5.0",
            "value": " 1.15k/1.15k [00:00&lt;00:00, 1.44kB/s]",
            "_view_count": null,
            "_view_module_version": "1.5.0",
            "description_tooltip": null,
            "_model_module": "@jupyter-widgets/controls",
            "layout": "IPY_MODEL_2d369ed805c74510a26782c565692564"
          }
        },
        "dcd8598c7bc54b8592607d3a59631e2d": {
          "model_module": "@jupyter-widgets/controls",
          "model_name": "ProgressStyleModel",
          "state": {
            "_view_name": "StyleView",
            "_model_name": "ProgressStyleModel",
            "description_width": "initial",
            "_view_module": "@jupyter-widgets/base",
            "_model_module_version": "1.5.0",
            "_view_count": null,
            "_view_module_version": "1.2.0",
            "bar_color": null,
            "_model_module": "@jupyter-widgets/controls"
          }
        },
        "45a0ccf903d049598db11c8849b2f3cb": {
          "model_module": "@jupyter-widgets/base",
          "model_name": "LayoutModel",
          "state": {
            "_view_name": "LayoutView",
            "grid_template_rows": null,
            "right": null,
            "justify_content": null,
            "_view_module": "@jupyter-widgets/base",
            "overflow": null,
            "_model_module_version": "1.2.0",
            "_view_count": null,
            "flex_flow": null,
            "width": null,
            "min_width": null,
            "border": null,
            "align_items": null,
            "bottom": null,
            "_model_module": "@jupyter-widgets/base",
            "top": null,
            "grid_column": null,
            "overflow_y": null,
            "overflow_x": null,
            "grid_auto_flow": null,
            "grid_area": null,
            "grid_template_columns": null,
            "flex": null,
            "_model_name": "LayoutModel",
            "justify_items": null,
            "grid_row": null,
            "max_height": null,
            "align_content": null,
            "visibility": null,
            "align_self": null,
            "height": null,
            "min_height": null,
            "padding": null,
            "grid_auto_rows": null,
            "grid_gap": null,
            "max_width": null,
            "order": null,
            "_view_module_version": "1.2.0",
            "grid_template_areas": null,
            "object_position": null,
            "object_fit": null,
            "grid_auto_columns": null,
            "margin": null,
            "display": null,
            "left": null
          }
        },
        "1733bf9eb0424f42867371e4c74e4ae0": {
          "model_module": "@jupyter-widgets/controls",
          "model_name": "DescriptionStyleModel",
          "state": {
            "_view_name": "StyleView",
            "_model_name": "DescriptionStyleModel",
            "description_width": "",
            "_view_module": "@jupyter-widgets/base",
            "_model_module_version": "1.5.0",
            "_view_count": null,
            "_view_module_version": "1.2.0",
            "_model_module": "@jupyter-widgets/controls"
          }
        },
        "2d369ed805c74510a26782c565692564": {
          "model_module": "@jupyter-widgets/base",
          "model_name": "LayoutModel",
          "state": {
            "_view_name": "LayoutView",
            "grid_template_rows": null,
            "right": null,
            "justify_content": null,
            "_view_module": "@jupyter-widgets/base",
            "overflow": null,
            "_model_module_version": "1.2.0",
            "_view_count": null,
            "flex_flow": null,
            "width": null,
            "min_width": null,
            "border": null,
            "align_items": null,
            "bottom": null,
            "_model_module": "@jupyter-widgets/base",
            "top": null,
            "grid_column": null,
            "overflow_y": null,
            "overflow_x": null,
            "grid_auto_flow": null,
            "grid_area": null,
            "grid_template_columns": null,
            "flex": null,
            "_model_name": "LayoutModel",
            "justify_items": null,
            "grid_row": null,
            "max_height": null,
            "align_content": null,
            "visibility": null,
            "align_self": null,
            "height": null,
            "min_height": null,
            "padding": null,
            "grid_auto_rows": null,
            "grid_gap": null,
            "max_width": null,
            "order": null,
            "_view_module_version": "1.2.0",
            "grid_template_areas": null,
            "object_position": null,
            "object_fit": null,
            "grid_auto_columns": null,
            "margin": null,
            "display": null,
            "left": null
          }
        },
        "02afd566d0464457b9f2690f7feaef75": {
          "model_module": "@jupyter-widgets/controls",
          "model_name": "HBoxModel",
          "state": {
            "_view_name": "HBoxView",
            "_dom_classes": [],
            "_model_name": "HBoxModel",
            "_view_module": "@jupyter-widgets/controls",
            "_model_module_version": "1.5.0",
            "_view_count": null,
            "_view_module_version": "1.5.0",
            "box_style": "",
            "layout": "IPY_MODEL_3c46011dda594f74a3a9fc5d074df490",
            "_model_module": "@jupyter-widgets/controls",
            "children": [
              "IPY_MODEL_2da9b5bf24f94612a7d1a40054c38695",
              "IPY_MODEL_dfd1464950af412cbe143368d2e0019b"
            ]
          }
        },
        "3c46011dda594f74a3a9fc5d074df490": {
          "model_module": "@jupyter-widgets/base",
          "model_name": "LayoutModel",
          "state": {
            "_view_name": "LayoutView",
            "grid_template_rows": null,
            "right": null,
            "justify_content": null,
            "_view_module": "@jupyter-widgets/base",
            "overflow": null,
            "_model_module_version": "1.2.0",
            "_view_count": null,
            "flex_flow": null,
            "width": null,
            "min_width": null,
            "border": null,
            "align_items": null,
            "bottom": null,
            "_model_module": "@jupyter-widgets/base",
            "top": null,
            "grid_column": null,
            "overflow_y": null,
            "overflow_x": null,
            "grid_auto_flow": null,
            "grid_area": null,
            "grid_template_columns": null,
            "flex": null,
            "_model_name": "LayoutModel",
            "justify_items": null,
            "grid_row": null,
            "max_height": null,
            "align_content": null,
            "visibility": null,
            "align_self": null,
            "height": null,
            "min_height": null,
            "padding": null,
            "grid_auto_rows": null,
            "grid_gap": null,
            "max_width": null,
            "order": null,
            "_view_module_version": "1.2.0",
            "grid_template_areas": null,
            "object_position": null,
            "object_fit": null,
            "grid_auto_columns": null,
            "margin": null,
            "display": null,
            "left": null
          }
        },
        "2da9b5bf24f94612a7d1a40054c38695": {
          "model_module": "@jupyter-widgets/controls",
          "model_name": "FloatProgressModel",
          "state": {
            "_view_name": "ProgressView",
            "style": "IPY_MODEL_cc0ea2b794b444cd98f9c2e1d76c86e4",
            "_dom_classes": [],
            "description": "Downloading: 100%",
            "_model_name": "FloatProgressModel",
            "bar_style": "success",
            "max": 1629486723,
            "_view_module": "@jupyter-widgets/controls",
            "_model_module_version": "1.5.0",
            "value": 1629486723,
            "_view_count": null,
            "_view_module_version": "1.5.0",
            "orientation": "horizontal",
            "min": 0,
            "description_tooltip": null,
            "_model_module": "@jupyter-widgets/controls",
            "layout": "IPY_MODEL_e1664d73821047468ba5a4df15cae580"
          }
        },
        "dfd1464950af412cbe143368d2e0019b": {
          "model_module": "@jupyter-widgets/controls",
          "model_name": "HTMLModel",
          "state": {
            "_view_name": "HTMLView",
            "style": "IPY_MODEL_8ca9e0e0d8034d88bcf06ff8e589acd0",
            "_dom_classes": [],
            "description": "",
            "_model_name": "HTMLModel",
            "placeholder": "​",
            "_view_module": "@jupyter-widgets/controls",
            "_model_module_version": "1.5.0",
            "value": " 1.63G/1.63G [00:33&lt;00:00, 48.1MB/s]",
            "_view_count": null,
            "_view_module_version": "1.5.0",
            "description_tooltip": null,
            "_model_module": "@jupyter-widgets/controls",
            "layout": "IPY_MODEL_a2a5bf62f7e346db808a0f512f0c070d"
          }
        },
        "cc0ea2b794b444cd98f9c2e1d76c86e4": {
          "model_module": "@jupyter-widgets/controls",
          "model_name": "ProgressStyleModel",
          "state": {
            "_view_name": "StyleView",
            "_model_name": "ProgressStyleModel",
            "description_width": "initial",
            "_view_module": "@jupyter-widgets/base",
            "_model_module_version": "1.5.0",
            "_view_count": null,
            "_view_module_version": "1.2.0",
            "bar_color": null,
            "_model_module": "@jupyter-widgets/controls"
          }
        },
        "e1664d73821047468ba5a4df15cae580": {
          "model_module": "@jupyter-widgets/base",
          "model_name": "LayoutModel",
          "state": {
            "_view_name": "LayoutView",
            "grid_template_rows": null,
            "right": null,
            "justify_content": null,
            "_view_module": "@jupyter-widgets/base",
            "overflow": null,
            "_model_module_version": "1.2.0",
            "_view_count": null,
            "flex_flow": null,
            "width": null,
            "min_width": null,
            "border": null,
            "align_items": null,
            "bottom": null,
            "_model_module": "@jupyter-widgets/base",
            "top": null,
            "grid_column": null,
            "overflow_y": null,
            "overflow_x": null,
            "grid_auto_flow": null,
            "grid_area": null,
            "grid_template_columns": null,
            "flex": null,
            "_model_name": "LayoutModel",
            "justify_items": null,
            "grid_row": null,
            "max_height": null,
            "align_content": null,
            "visibility": null,
            "align_self": null,
            "height": null,
            "min_height": null,
            "padding": null,
            "grid_auto_rows": null,
            "grid_gap": null,
            "max_width": null,
            "order": null,
            "_view_module_version": "1.2.0",
            "grid_template_areas": null,
            "object_position": null,
            "object_fit": null,
            "grid_auto_columns": null,
            "margin": null,
            "display": null,
            "left": null
          }
        },
        "8ca9e0e0d8034d88bcf06ff8e589acd0": {
          "model_module": "@jupyter-widgets/controls",
          "model_name": "DescriptionStyleModel",
          "state": {
            "_view_name": "StyleView",
            "_model_name": "DescriptionStyleModel",
            "description_width": "",
            "_view_module": "@jupyter-widgets/base",
            "_model_module_version": "1.5.0",
            "_view_count": null,
            "_view_module_version": "1.2.0",
            "_model_module": "@jupyter-widgets/controls"
          }
        },
        "a2a5bf62f7e346db808a0f512f0c070d": {
          "model_module": "@jupyter-widgets/base",
          "model_name": "LayoutModel",
          "state": {
            "_view_name": "LayoutView",
            "grid_template_rows": null,
            "right": null,
            "justify_content": null,
            "_view_module": "@jupyter-widgets/base",
            "overflow": null,
            "_model_module_version": "1.2.0",
            "_view_count": null,
            "flex_flow": null,
            "width": null,
            "min_width": null,
            "border": null,
            "align_items": null,
            "bottom": null,
            "_model_module": "@jupyter-widgets/base",
            "top": null,
            "grid_column": null,
            "overflow_y": null,
            "overflow_x": null,
            "grid_auto_flow": null,
            "grid_area": null,
            "grid_template_columns": null,
            "flex": null,
            "_model_name": "LayoutModel",
            "justify_items": null,
            "grid_row": null,
            "max_height": null,
            "align_content": null,
            "visibility": null,
            "align_self": null,
            "height": null,
            "min_height": null,
            "padding": null,
            "grid_auto_rows": null,
            "grid_gap": null,
            "max_width": null,
            "order": null,
            "_view_module_version": "1.2.0",
            "grid_template_areas": null,
            "object_position": null,
            "object_fit": null,
            "grid_auto_columns": null,
            "margin": null,
            "display": null,
            "left": null
          }
        },
        "a2161ecabc6a4a8ab8122962c7f79a53": {
          "model_module": "@jupyter-widgets/controls",
          "model_name": "HBoxModel",
          "state": {
            "_view_name": "HBoxView",
            "_dom_classes": [],
            "_model_name": "HBoxModel",
            "_view_module": "@jupyter-widgets/controls",
            "_model_module_version": "1.5.0",
            "_view_count": null,
            "_view_module_version": "1.5.0",
            "box_style": "",
            "layout": "IPY_MODEL_f97453eaa56344bebf1a02526b8c518d",
            "_model_module": "@jupyter-widgets/controls",
            "children": [
              "IPY_MODEL_b460bf214cdc4f4196fbba0b62768f99",
              "IPY_MODEL_c77314b9989b41608c441957edfade58"
            ]
          }
        },
        "f97453eaa56344bebf1a02526b8c518d": {
          "model_module": "@jupyter-widgets/base",
          "model_name": "LayoutModel",
          "state": {
            "_view_name": "LayoutView",
            "grid_template_rows": null,
            "right": null,
            "justify_content": null,
            "_view_module": "@jupyter-widgets/base",
            "overflow": null,
            "_model_module_version": "1.2.0",
            "_view_count": null,
            "flex_flow": null,
            "width": null,
            "min_width": null,
            "border": null,
            "align_items": null,
            "bottom": null,
            "_model_module": "@jupyter-widgets/base",
            "top": null,
            "grid_column": null,
            "overflow_y": null,
            "overflow_x": null,
            "grid_auto_flow": null,
            "grid_area": null,
            "grid_template_columns": null,
            "flex": null,
            "_model_name": "LayoutModel",
            "justify_items": null,
            "grid_row": null,
            "max_height": null,
            "align_content": null,
            "visibility": null,
            "align_self": null,
            "height": null,
            "min_height": null,
            "padding": null,
            "grid_auto_rows": null,
            "grid_gap": null,
            "max_width": null,
            "order": null,
            "_view_module_version": "1.2.0",
            "grid_template_areas": null,
            "object_position": null,
            "object_fit": null,
            "grid_auto_columns": null,
            "margin": null,
            "display": null,
            "left": null
          }
        },
        "b460bf214cdc4f4196fbba0b62768f99": {
          "model_module": "@jupyter-widgets/controls",
          "model_name": "FloatProgressModel",
          "state": {
            "_view_name": "ProgressView",
            "style": "IPY_MODEL_c89b55d51627445686c28f10bc99a928",
            "_dom_classes": [],
            "description": "Downloading: 100%",
            "_model_name": "FloatProgressModel",
            "bar_style": "success",
            "max": 26,
            "_view_module": "@jupyter-widgets/controls",
            "_model_module_version": "1.5.0",
            "value": 26,
            "_view_count": null,
            "_view_module_version": "1.5.0",
            "orientation": "horizontal",
            "min": 0,
            "description_tooltip": null,
            "_model_module": "@jupyter-widgets/controls",
            "layout": "IPY_MODEL_cb2ec8486e10480eb693e6ad9292d544"
          }
        },
        "c77314b9989b41608c441957edfade58": {
          "model_module": "@jupyter-widgets/controls",
          "model_name": "HTMLModel",
          "state": {
            "_view_name": "HTMLView",
            "style": "IPY_MODEL_69f61fa1fd9848139b88c2ffff62b8b5",
            "_dom_classes": [],
            "description": "",
            "_model_name": "HTMLModel",
            "placeholder": "​",
            "_view_module": "@jupyter-widgets/controls",
            "_model_module_version": "1.5.0",
            "value": " 26.0/26.0 [00:01&lt;00:00, 24.8B/s]",
            "_view_count": null,
            "_view_module_version": "1.5.0",
            "description_tooltip": null,
            "_model_module": "@jupyter-widgets/controls",
            "layout": "IPY_MODEL_448bb69381284bab8d2910ac01f7c1a9"
          }
        },
        "c89b55d51627445686c28f10bc99a928": {
          "model_module": "@jupyter-widgets/controls",
          "model_name": "ProgressStyleModel",
          "state": {
            "_view_name": "StyleView",
            "_model_name": "ProgressStyleModel",
            "description_width": "initial",
            "_view_module": "@jupyter-widgets/base",
            "_model_module_version": "1.5.0",
            "_view_count": null,
            "_view_module_version": "1.2.0",
            "bar_color": null,
            "_model_module": "@jupyter-widgets/controls"
          }
        },
        "cb2ec8486e10480eb693e6ad9292d544": {
          "model_module": "@jupyter-widgets/base",
          "model_name": "LayoutModel",
          "state": {
            "_view_name": "LayoutView",
            "grid_template_rows": null,
            "right": null,
            "justify_content": null,
            "_view_module": "@jupyter-widgets/base",
            "overflow": null,
            "_model_module_version": "1.2.0",
            "_view_count": null,
            "flex_flow": null,
            "width": null,
            "min_width": null,
            "border": null,
            "align_items": null,
            "bottom": null,
            "_model_module": "@jupyter-widgets/base",
            "top": null,
            "grid_column": null,
            "overflow_y": null,
            "overflow_x": null,
            "grid_auto_flow": null,
            "grid_area": null,
            "grid_template_columns": null,
            "flex": null,
            "_model_name": "LayoutModel",
            "justify_items": null,
            "grid_row": null,
            "max_height": null,
            "align_content": null,
            "visibility": null,
            "align_self": null,
            "height": null,
            "min_height": null,
            "padding": null,
            "grid_auto_rows": null,
            "grid_gap": null,
            "max_width": null,
            "order": null,
            "_view_module_version": "1.2.0",
            "grid_template_areas": null,
            "object_position": null,
            "object_fit": null,
            "grid_auto_columns": null,
            "margin": null,
            "display": null,
            "left": null
          }
        },
        "69f61fa1fd9848139b88c2ffff62b8b5": {
          "model_module": "@jupyter-widgets/controls",
          "model_name": "DescriptionStyleModel",
          "state": {
            "_view_name": "StyleView",
            "_model_name": "DescriptionStyleModel",
            "description_width": "",
            "_view_module": "@jupyter-widgets/base",
            "_model_module_version": "1.5.0",
            "_view_count": null,
            "_view_module_version": "1.2.0",
            "_model_module": "@jupyter-widgets/controls"
          }
        },
        "448bb69381284bab8d2910ac01f7c1a9": {
          "model_module": "@jupyter-widgets/base",
          "model_name": "LayoutModel",
          "state": {
            "_view_name": "LayoutView",
            "grid_template_rows": null,
            "right": null,
            "justify_content": null,
            "_view_module": "@jupyter-widgets/base",
            "overflow": null,
            "_model_module_version": "1.2.0",
            "_view_count": null,
            "flex_flow": null,
            "width": null,
            "min_width": null,
            "border": null,
            "align_items": null,
            "bottom": null,
            "_model_module": "@jupyter-widgets/base",
            "top": null,
            "grid_column": null,
            "overflow_y": null,
            "overflow_x": null,
            "grid_auto_flow": null,
            "grid_area": null,
            "grid_template_columns": null,
            "flex": null,
            "_model_name": "LayoutModel",
            "justify_items": null,
            "grid_row": null,
            "max_height": null,
            "align_content": null,
            "visibility": null,
            "align_self": null,
            "height": null,
            "min_height": null,
            "padding": null,
            "grid_auto_rows": null,
            "grid_gap": null,
            "max_width": null,
            "order": null,
            "_view_module_version": "1.2.0",
            "grid_template_areas": null,
            "object_position": null,
            "object_fit": null,
            "grid_auto_columns": null,
            "margin": null,
            "display": null,
            "left": null
          }
        },
        "e0543991865e4e28839b28b48282ee92": {
          "model_module": "@jupyter-widgets/controls",
          "model_name": "HBoxModel",
          "state": {
            "_view_name": "HBoxView",
            "_dom_classes": [],
            "_model_name": "HBoxModel",
            "_view_module": "@jupyter-widgets/controls",
            "_model_module_version": "1.5.0",
            "_view_count": null,
            "_view_module_version": "1.5.0",
            "box_style": "",
            "layout": "IPY_MODEL_41a1e93054af4515a3756a5120fc46d1",
            "_model_module": "@jupyter-widgets/controls",
            "children": [
              "IPY_MODEL_4434dad3ae5b4c149655cd767d9741c3",
              "IPY_MODEL_7bd9705d4d654f8886862138dbadf92e"
            ]
          }
        },
        "41a1e93054af4515a3756a5120fc46d1": {
          "model_module": "@jupyter-widgets/base",
          "model_name": "LayoutModel",
          "state": {
            "_view_name": "LayoutView",
            "grid_template_rows": null,
            "right": null,
            "justify_content": null,
            "_view_module": "@jupyter-widgets/base",
            "overflow": null,
            "_model_module_version": "1.2.0",
            "_view_count": null,
            "flex_flow": null,
            "width": null,
            "min_width": null,
            "border": null,
            "align_items": null,
            "bottom": null,
            "_model_module": "@jupyter-widgets/base",
            "top": null,
            "grid_column": null,
            "overflow_y": null,
            "overflow_x": null,
            "grid_auto_flow": null,
            "grid_area": null,
            "grid_template_columns": null,
            "flex": null,
            "_model_name": "LayoutModel",
            "justify_items": null,
            "grid_row": null,
            "max_height": null,
            "align_content": null,
            "visibility": null,
            "align_self": null,
            "height": null,
            "min_height": null,
            "padding": null,
            "grid_auto_rows": null,
            "grid_gap": null,
            "max_width": null,
            "order": null,
            "_view_module_version": "1.2.0",
            "grid_template_areas": null,
            "object_position": null,
            "object_fit": null,
            "grid_auto_columns": null,
            "margin": null,
            "display": null,
            "left": null
          }
        },
        "4434dad3ae5b4c149655cd767d9741c3": {
          "model_module": "@jupyter-widgets/controls",
          "model_name": "FloatProgressModel",
          "state": {
            "_view_name": "ProgressView",
            "style": "IPY_MODEL_2c3cfc26080b4b6798b3c9c526bfd364",
            "_dom_classes": [],
            "description": "Downloading: 100%",
            "_model_name": "FloatProgressModel",
            "bar_style": "success",
            "max": 898822,
            "_view_module": "@jupyter-widgets/controls",
            "_model_module_version": "1.5.0",
            "value": 898822,
            "_view_count": null,
            "_view_module_version": "1.5.0",
            "orientation": "horizontal",
            "min": 0,
            "description_tooltip": null,
            "_model_module": "@jupyter-widgets/controls",
            "layout": "IPY_MODEL_d25250e40e37431f91b1b0acd7e86d8e"
          }
        },
        "7bd9705d4d654f8886862138dbadf92e": {
          "model_module": "@jupyter-widgets/controls",
          "model_name": "HTMLModel",
          "state": {
            "_view_name": "HTMLView",
            "style": "IPY_MODEL_9a1503c1166a4da898360867db88bdd9",
            "_dom_classes": [],
            "description": "",
            "_model_name": "HTMLModel",
            "placeholder": "​",
            "_view_module": "@jupyter-widgets/controls",
            "_model_module_version": "1.5.0",
            "value": " 899k/899k [00:00&lt;00:00, 4.51MB/s]",
            "_view_count": null,
            "_view_module_version": "1.5.0",
            "description_tooltip": null,
            "_model_module": "@jupyter-widgets/controls",
            "layout": "IPY_MODEL_c823cb3c692542d1895de1d938077b17"
          }
        },
        "2c3cfc26080b4b6798b3c9c526bfd364": {
          "model_module": "@jupyter-widgets/controls",
          "model_name": "ProgressStyleModel",
          "state": {
            "_view_name": "StyleView",
            "_model_name": "ProgressStyleModel",
            "description_width": "initial",
            "_view_module": "@jupyter-widgets/base",
            "_model_module_version": "1.5.0",
            "_view_count": null,
            "_view_module_version": "1.2.0",
            "bar_color": null,
            "_model_module": "@jupyter-widgets/controls"
          }
        },
        "d25250e40e37431f91b1b0acd7e86d8e": {
          "model_module": "@jupyter-widgets/base",
          "model_name": "LayoutModel",
          "state": {
            "_view_name": "LayoutView",
            "grid_template_rows": null,
            "right": null,
            "justify_content": null,
            "_view_module": "@jupyter-widgets/base",
            "overflow": null,
            "_model_module_version": "1.2.0",
            "_view_count": null,
            "flex_flow": null,
            "width": null,
            "min_width": null,
            "border": null,
            "align_items": null,
            "bottom": null,
            "_model_module": "@jupyter-widgets/base",
            "top": null,
            "grid_column": null,
            "overflow_y": null,
            "overflow_x": null,
            "grid_auto_flow": null,
            "grid_area": null,
            "grid_template_columns": null,
            "flex": null,
            "_model_name": "LayoutModel",
            "justify_items": null,
            "grid_row": null,
            "max_height": null,
            "align_content": null,
            "visibility": null,
            "align_self": null,
            "height": null,
            "min_height": null,
            "padding": null,
            "grid_auto_rows": null,
            "grid_gap": null,
            "max_width": null,
            "order": null,
            "_view_module_version": "1.2.0",
            "grid_template_areas": null,
            "object_position": null,
            "object_fit": null,
            "grid_auto_columns": null,
            "margin": null,
            "display": null,
            "left": null
          }
        },
        "9a1503c1166a4da898360867db88bdd9": {
          "model_module": "@jupyter-widgets/controls",
          "model_name": "DescriptionStyleModel",
          "state": {
            "_view_name": "StyleView",
            "_model_name": "DescriptionStyleModel",
            "description_width": "",
            "_view_module": "@jupyter-widgets/base",
            "_model_module_version": "1.5.0",
            "_view_count": null,
            "_view_module_version": "1.2.0",
            "_model_module": "@jupyter-widgets/controls"
          }
        },
        "c823cb3c692542d1895de1d938077b17": {
          "model_module": "@jupyter-widgets/base",
          "model_name": "LayoutModel",
          "state": {
            "_view_name": "LayoutView",
            "grid_template_rows": null,
            "right": null,
            "justify_content": null,
            "_view_module": "@jupyter-widgets/base",
            "overflow": null,
            "_model_module_version": "1.2.0",
            "_view_count": null,
            "flex_flow": null,
            "width": null,
            "min_width": null,
            "border": null,
            "align_items": null,
            "bottom": null,
            "_model_module": "@jupyter-widgets/base",
            "top": null,
            "grid_column": null,
            "overflow_y": null,
            "overflow_x": null,
            "grid_auto_flow": null,
            "grid_area": null,
            "grid_template_columns": null,
            "flex": null,
            "_model_name": "LayoutModel",
            "justify_items": null,
            "grid_row": null,
            "max_height": null,
            "align_content": null,
            "visibility": null,
            "align_self": null,
            "height": null,
            "min_height": null,
            "padding": null,
            "grid_auto_rows": null,
            "grid_gap": null,
            "max_width": null,
            "order": null,
            "_view_module_version": "1.2.0",
            "grid_template_areas": null,
            "object_position": null,
            "object_fit": null,
            "grid_auto_columns": null,
            "margin": null,
            "display": null,
            "left": null
          }
        },
        "de5894b0f0064c0fa18fbb5be443ee32": {
          "model_module": "@jupyter-widgets/controls",
          "model_name": "HBoxModel",
          "state": {
            "_view_name": "HBoxView",
            "_dom_classes": [],
            "_model_name": "HBoxModel",
            "_view_module": "@jupyter-widgets/controls",
            "_model_module_version": "1.5.0",
            "_view_count": null,
            "_view_module_version": "1.5.0",
            "box_style": "",
            "layout": "IPY_MODEL_dd644ca0a6ad4dadac5a6620c584a9b2",
            "_model_module": "@jupyter-widgets/controls",
            "children": [
              "IPY_MODEL_485955a4d2844961914a07e691b4bbcb",
              "IPY_MODEL_fb84231af5b44387a30c47e85c6a0dd7"
            ]
          }
        },
        "dd644ca0a6ad4dadac5a6620c584a9b2": {
          "model_module": "@jupyter-widgets/base",
          "model_name": "LayoutModel",
          "state": {
            "_view_name": "LayoutView",
            "grid_template_rows": null,
            "right": null,
            "justify_content": null,
            "_view_module": "@jupyter-widgets/base",
            "overflow": null,
            "_model_module_version": "1.2.0",
            "_view_count": null,
            "flex_flow": null,
            "width": null,
            "min_width": null,
            "border": null,
            "align_items": null,
            "bottom": null,
            "_model_module": "@jupyter-widgets/base",
            "top": null,
            "grid_column": null,
            "overflow_y": null,
            "overflow_x": null,
            "grid_auto_flow": null,
            "grid_area": null,
            "grid_template_columns": null,
            "flex": null,
            "_model_name": "LayoutModel",
            "justify_items": null,
            "grid_row": null,
            "max_height": null,
            "align_content": null,
            "visibility": null,
            "align_self": null,
            "height": null,
            "min_height": null,
            "padding": null,
            "grid_auto_rows": null,
            "grid_gap": null,
            "max_width": null,
            "order": null,
            "_view_module_version": "1.2.0",
            "grid_template_areas": null,
            "object_position": null,
            "object_fit": null,
            "grid_auto_columns": null,
            "margin": null,
            "display": null,
            "left": null
          }
        },
        "485955a4d2844961914a07e691b4bbcb": {
          "model_module": "@jupyter-widgets/controls",
          "model_name": "FloatProgressModel",
          "state": {
            "_view_name": "ProgressView",
            "style": "IPY_MODEL_6189f0f20e5d41708a1f3780a43fb7ae",
            "_dom_classes": [],
            "description": "Downloading: 100%",
            "_model_name": "FloatProgressModel",
            "bar_style": "success",
            "max": 456318,
            "_view_module": "@jupyter-widgets/controls",
            "_model_module_version": "1.5.0",
            "value": 456318,
            "_view_count": null,
            "_view_module_version": "1.5.0",
            "orientation": "horizontal",
            "min": 0,
            "description_tooltip": null,
            "_model_module": "@jupyter-widgets/controls",
            "layout": "IPY_MODEL_3057f151cd2a43d9bdac2631304a350c"
          }
        },
        "fb84231af5b44387a30c47e85c6a0dd7": {
          "model_module": "@jupyter-widgets/controls",
          "model_name": "HTMLModel",
          "state": {
            "_view_name": "HTMLView",
            "style": "IPY_MODEL_e0e0d7605b5c4ad59dc637dc31e1ace7",
            "_dom_classes": [],
            "description": "",
            "_model_name": "HTMLModel",
            "placeholder": "​",
            "_view_module": "@jupyter-widgets/controls",
            "_model_module_version": "1.5.0",
            "value": " 456k/456k [00:03&lt;00:00, 126kB/s]",
            "_view_count": null,
            "_view_module_version": "1.5.0",
            "description_tooltip": null,
            "_model_module": "@jupyter-widgets/controls",
            "layout": "IPY_MODEL_d184036967574a768f7869e981279975"
          }
        },
        "6189f0f20e5d41708a1f3780a43fb7ae": {
          "model_module": "@jupyter-widgets/controls",
          "model_name": "ProgressStyleModel",
          "state": {
            "_view_name": "StyleView",
            "_model_name": "ProgressStyleModel",
            "description_width": "initial",
            "_view_module": "@jupyter-widgets/base",
            "_model_module_version": "1.5.0",
            "_view_count": null,
            "_view_module_version": "1.2.0",
            "bar_color": null,
            "_model_module": "@jupyter-widgets/controls"
          }
        },
        "3057f151cd2a43d9bdac2631304a350c": {
          "model_module": "@jupyter-widgets/base",
          "model_name": "LayoutModel",
          "state": {
            "_view_name": "LayoutView",
            "grid_template_rows": null,
            "right": null,
            "justify_content": null,
            "_view_module": "@jupyter-widgets/base",
            "overflow": null,
            "_model_module_version": "1.2.0",
            "_view_count": null,
            "flex_flow": null,
            "width": null,
            "min_width": null,
            "border": null,
            "align_items": null,
            "bottom": null,
            "_model_module": "@jupyter-widgets/base",
            "top": null,
            "grid_column": null,
            "overflow_y": null,
            "overflow_x": null,
            "grid_auto_flow": null,
            "grid_area": null,
            "grid_template_columns": null,
            "flex": null,
            "_model_name": "LayoutModel",
            "justify_items": null,
            "grid_row": null,
            "max_height": null,
            "align_content": null,
            "visibility": null,
            "align_self": null,
            "height": null,
            "min_height": null,
            "padding": null,
            "grid_auto_rows": null,
            "grid_gap": null,
            "max_width": null,
            "order": null,
            "_view_module_version": "1.2.0",
            "grid_template_areas": null,
            "object_position": null,
            "object_fit": null,
            "grid_auto_columns": null,
            "margin": null,
            "display": null,
            "left": null
          }
        },
        "e0e0d7605b5c4ad59dc637dc31e1ace7": {
          "model_module": "@jupyter-widgets/controls",
          "model_name": "DescriptionStyleModel",
          "state": {
            "_view_name": "StyleView",
            "_model_name": "DescriptionStyleModel",
            "description_width": "",
            "_view_module": "@jupyter-widgets/base",
            "_model_module_version": "1.5.0",
            "_view_count": null,
            "_view_module_version": "1.2.0",
            "_model_module": "@jupyter-widgets/controls"
          }
        },
        "d184036967574a768f7869e981279975": {
          "model_module": "@jupyter-widgets/base",
          "model_name": "LayoutModel",
          "state": {
            "_view_name": "LayoutView",
            "grid_template_rows": null,
            "right": null,
            "justify_content": null,
            "_view_module": "@jupyter-widgets/base",
            "overflow": null,
            "_model_module_version": "1.2.0",
            "_view_count": null,
            "flex_flow": null,
            "width": null,
            "min_width": null,
            "border": null,
            "align_items": null,
            "bottom": null,
            "_model_module": "@jupyter-widgets/base",
            "top": null,
            "grid_column": null,
            "overflow_y": null,
            "overflow_x": null,
            "grid_auto_flow": null,
            "grid_area": null,
            "grid_template_columns": null,
            "flex": null,
            "_model_name": "LayoutModel",
            "justify_items": null,
            "grid_row": null,
            "max_height": null,
            "align_content": null,
            "visibility": null,
            "align_self": null,
            "height": null,
            "min_height": null,
            "padding": null,
            "grid_auto_rows": null,
            "grid_gap": null,
            "max_width": null,
            "order": null,
            "_view_module_version": "1.2.0",
            "grid_template_areas": null,
            "object_position": null,
            "object_fit": null,
            "grid_auto_columns": null,
            "margin": null,
            "display": null,
            "left": null
          }
        },
        "8aed7f2e3e944e62804d4de121fd0224": {
          "model_module": "@jupyter-widgets/controls",
          "model_name": "HBoxModel",
          "state": {
            "_view_name": "HBoxView",
            "_dom_classes": [],
            "_model_name": "HBoxModel",
            "_view_module": "@jupyter-widgets/controls",
            "_model_module_version": "1.5.0",
            "_view_count": null,
            "_view_module_version": "1.5.0",
            "box_style": "",
            "layout": "IPY_MODEL_b8b95a9154f04ed081b6bb6d2c968a13",
            "_model_module": "@jupyter-widgets/controls",
            "children": [
              "IPY_MODEL_8945d14216d4482899442e8461484de3",
              "IPY_MODEL_76510c09e2804a0897b657ad981e0188"
            ]
          }
        },
        "b8b95a9154f04ed081b6bb6d2c968a13": {
          "model_module": "@jupyter-widgets/base",
          "model_name": "LayoutModel",
          "state": {
            "_view_name": "LayoutView",
            "grid_template_rows": null,
            "right": null,
            "justify_content": null,
            "_view_module": "@jupyter-widgets/base",
            "overflow": null,
            "_model_module_version": "1.2.0",
            "_view_count": null,
            "flex_flow": null,
            "width": null,
            "min_width": null,
            "border": null,
            "align_items": null,
            "bottom": null,
            "_model_module": "@jupyter-widgets/base",
            "top": null,
            "grid_column": null,
            "overflow_y": null,
            "overflow_x": null,
            "grid_auto_flow": null,
            "grid_area": null,
            "grid_template_columns": null,
            "flex": null,
            "_model_name": "LayoutModel",
            "justify_items": null,
            "grid_row": null,
            "max_height": null,
            "align_content": null,
            "visibility": null,
            "align_self": null,
            "height": null,
            "min_height": null,
            "padding": null,
            "grid_auto_rows": null,
            "grid_gap": null,
            "max_width": null,
            "order": null,
            "_view_module_version": "1.2.0",
            "grid_template_areas": null,
            "object_position": null,
            "object_fit": null,
            "grid_auto_columns": null,
            "margin": null,
            "display": null,
            "left": null
          }
        },
        "8945d14216d4482899442e8461484de3": {
          "model_module": "@jupyter-widgets/controls",
          "model_name": "FloatProgressModel",
          "state": {
            "_view_name": "ProgressView",
            "style": "IPY_MODEL_5ad52cea61684d5787aaa8dca70d4598",
            "_dom_classes": [],
            "description": "Downloading: 100%",
            "_model_name": "FloatProgressModel",
            "bar_style": "success",
            "max": 1355863,
            "_view_module": "@jupyter-widgets/controls",
            "_model_module_version": "1.5.0",
            "value": 1355863,
            "_view_count": null,
            "_view_module_version": "1.5.0",
            "orientation": "horizontal",
            "min": 0,
            "description_tooltip": null,
            "_model_module": "@jupyter-widgets/controls",
            "layout": "IPY_MODEL_4eca237f92874654a244da5ca8eb57f4"
          }
        },
        "76510c09e2804a0897b657ad981e0188": {
          "model_module": "@jupyter-widgets/controls",
          "model_name": "HTMLModel",
          "state": {
            "_view_name": "HTMLView",
            "style": "IPY_MODEL_f5d0603d6a324fb2a96096cf8c4850e7",
            "_dom_classes": [],
            "description": "",
            "_model_name": "HTMLModel",
            "placeholder": "​",
            "_view_module": "@jupyter-widgets/controls",
            "_model_module_version": "1.5.0",
            "value": " 1.36M/1.36M [00:02&lt;00:00, 467kB/s]",
            "_view_count": null,
            "_view_module_version": "1.5.0",
            "description_tooltip": null,
            "_model_module": "@jupyter-widgets/controls",
            "layout": "IPY_MODEL_553fcb74eb1d43e5901d9d910e2d0291"
          }
        },
        "5ad52cea61684d5787aaa8dca70d4598": {
          "model_module": "@jupyter-widgets/controls",
          "model_name": "ProgressStyleModel",
          "state": {
            "_view_name": "StyleView",
            "_model_name": "ProgressStyleModel",
            "description_width": "initial",
            "_view_module": "@jupyter-widgets/base",
            "_model_module_version": "1.5.0",
            "_view_count": null,
            "_view_module_version": "1.2.0",
            "bar_color": null,
            "_model_module": "@jupyter-widgets/controls"
          }
        },
        "4eca237f92874654a244da5ca8eb57f4": {
          "model_module": "@jupyter-widgets/base",
          "model_name": "LayoutModel",
          "state": {
            "_view_name": "LayoutView",
            "grid_template_rows": null,
            "right": null,
            "justify_content": null,
            "_view_module": "@jupyter-widgets/base",
            "overflow": null,
            "_model_module_version": "1.2.0",
            "_view_count": null,
            "flex_flow": null,
            "width": null,
            "min_width": null,
            "border": null,
            "align_items": null,
            "bottom": null,
            "_model_module": "@jupyter-widgets/base",
            "top": null,
            "grid_column": null,
            "overflow_y": null,
            "overflow_x": null,
            "grid_auto_flow": null,
            "grid_area": null,
            "grid_template_columns": null,
            "flex": null,
            "_model_name": "LayoutModel",
            "justify_items": null,
            "grid_row": null,
            "max_height": null,
            "align_content": null,
            "visibility": null,
            "align_self": null,
            "height": null,
            "min_height": null,
            "padding": null,
            "grid_auto_rows": null,
            "grid_gap": null,
            "max_width": null,
            "order": null,
            "_view_module_version": "1.2.0",
            "grid_template_areas": null,
            "object_position": null,
            "object_fit": null,
            "grid_auto_columns": null,
            "margin": null,
            "display": null,
            "left": null
          }
        },
        "f5d0603d6a324fb2a96096cf8c4850e7": {
          "model_module": "@jupyter-widgets/controls",
          "model_name": "DescriptionStyleModel",
          "state": {
            "_view_name": "StyleView",
            "_model_name": "DescriptionStyleModel",
            "description_width": "",
            "_view_module": "@jupyter-widgets/base",
            "_model_module_version": "1.5.0",
            "_view_count": null,
            "_view_module_version": "1.2.0",
            "_model_module": "@jupyter-widgets/controls"
          }
        },
        "553fcb74eb1d43e5901d9d910e2d0291": {
          "model_module": "@jupyter-widgets/base",
          "model_name": "LayoutModel",
          "state": {
            "_view_name": "LayoutView",
            "grid_template_rows": null,
            "right": null,
            "justify_content": null,
            "_view_module": "@jupyter-widgets/base",
            "overflow": null,
            "_model_module_version": "1.2.0",
            "_view_count": null,
            "flex_flow": null,
            "width": null,
            "min_width": null,
            "border": null,
            "align_items": null,
            "bottom": null,
            "_model_module": "@jupyter-widgets/base",
            "top": null,
            "grid_column": null,
            "overflow_y": null,
            "overflow_x": null,
            "grid_auto_flow": null,
            "grid_area": null,
            "grid_template_columns": null,
            "flex": null,
            "_model_name": "LayoutModel",
            "justify_items": null,
            "grid_row": null,
            "max_height": null,
            "align_content": null,
            "visibility": null,
            "align_self": null,
            "height": null,
            "min_height": null,
            "padding": null,
            "grid_auto_rows": null,
            "grid_gap": null,
            "max_width": null,
            "order": null,
            "_view_module_version": "1.2.0",
            "grid_template_areas": null,
            "object_position": null,
            "object_fit": null,
            "grid_auto_columns": null,
            "margin": null,
            "display": null,
            "left": null
          }
        }
      }
    }
  },
  "cells": [
    {
      "cell_type": "markdown",
      "metadata": {
        "id": "view-in-github",
        "colab_type": "text"
      },
      "source": [
        "<a href=\"https://colab.research.google.com/github/rishabhgupta592/CallCenterAudioClassification/blob/main/CallCenterAudioClassification.ipynb\" target=\"_parent\"><img src=\"https://colab.research.google.com/assets/colab-badge.svg\" alt=\"Open In Colab\"/></a>"
      ]
    },
    {
      "cell_type": "code",
      "metadata": {
        "id": "Uw5AyIWRqqNU"
      },
      "source": [
        "import tensorflow as tf\n",
        "from sklearn.feature_extraction.text import TfidfVectorizer\n",
        "from sklearn.preprocessing import LabelEncoder\n",
        "from sklearn import model_selection, naive_bayes, svm\n",
        "from sklearn.metrics import accuracy_score\n",
        "from sklearn.model_selection import train_test_split    \n",
        "from pprint import pprint"
      ],
      "execution_count": null,
      "outputs": []
    },
    {
      "cell_type": "code",
      "metadata": {
        "id": "VK2SFvs499D0"
      },
      "source": [
        "import pandas as pd\n",
        "import numpy as np\n",
        "import matplotlib.pyplot as plt\n",
        "import seaborn as sns\n",
        "import os"
      ],
      "execution_count": null,
      "outputs": []
    },
    {
      "cell_type": "markdown",
      "metadata": {
        "id": "QERpdSrPsdIA"
      },
      "source": [
        "# Data Exploration"
      ]
    },
    {
      "cell_type": "code",
      "metadata": {
        "id": "p9XyJxUOsZU_"
      },
      "source": [
        "# label_data = pd.read_csv(\"./data/metaData/mapping_conv_topic.train.txt\", delimiter=\" \")\n",
        "# label_data"
      ],
      "execution_count": null,
      "outputs": []
    },
    {
      "cell_type": "code",
      "metadata": {
        "id": "ukFlbkq-s7Wq"
      },
      "source": [
        "def load_file_content(file):\n",
        "  sentence = \"\"\n",
        "  prev_speaker = \"\"\n",
        "  for line in file:\n",
        "    line = line.replace(\"[silence]\", \"\")\n",
        "    line = line.replace(\"[noise]\", \"\")\n",
        "    line = line.replace(\"[\", \"\")\n",
        "    line = line.replace(\"]\", \"\")\n",
        "    splitted_line = line.split()\n",
        "    line = \" \".join(splitted_line[3:])\n",
        "    speaker = splitted_line[0]\n",
        "    if line != \"\":\n",
        "      if prev_speaker == speaker:\n",
        "        sentence = sentence + \" \" + line\n",
        "      else:\n",
        "        sentence = sentence + \". \" + line\n",
        "    prev_speaker = speaker\n",
        "  return sentence"
      ],
      "execution_count": null,
      "outputs": []
    },
    {
      "cell_type": "code",
      "metadata": {
        "id": "y3uZg5PtzEli"
      },
      "source": [
        "# files = []\n",
        "# rawfilename = []\n",
        "# content = []\n",
        "# for filename in os.listdir(\"./data/trainData/\"):\n",
        "#   file = open(\"./data/trainData/\"+filename, \"r\")\n",
        "#   file_content = load_file_content(file)\n",
        "#   files.append(filename)\n",
        "#   rawfilename.append(filename.split(\".\")[1])\n",
        "\n",
        "#   content.append(file_content)\n",
        "\n",
        "# data = pd.DataFrame(list(zip(files, rawfilename, content, )),\n",
        "#                columns =['fileNameActual', 'FileName', 'content'])\n",
        "# data"
      ],
      "execution_count": null,
      "outputs": []
    },
    {
      "cell_type": "code",
      "metadata": {
        "id": "obRIZCokqiLE"
      },
      "source": [
        "# # Getting agent and customer data together with label\n",
        "# data['FileName'] = data.FileName.astype(int)\n",
        "\n",
        "# final_df = data.merge(label_data, on=[\"FileName\"])\n",
        "# final_df.to_csv(\"prepared_data.csv\")"
      ],
      "execution_count": null,
      "outputs": []
    },
    {
      "cell_type": "code",
      "metadata": {
        "colab": {
          "base_uri": "https://localhost:8080/",
          "height": 419
        },
        "id": "AZEFsJmqcP0E",
        "outputId": "98ba2fe0-94e9-4217-f761-1911e47f808a"
      },
      "source": [
        "final_df = pd.read_csv(\"prepared_data.csv\")\n",
        "final_df"
      ],
      "execution_count": null,
      "outputs": [
        {
          "output_type": "execute_result",
          "data": {
            "text/html": [
              "<div>\n",
              "<style scoped>\n",
              "    .dataframe tbody tr th:only-of-type {\n",
              "        vertical-align: middle;\n",
              "    }\n",
              "\n",
              "    .dataframe tbody tr th {\n",
              "        vertical-align: top;\n",
              "    }\n",
              "\n",
              "    .dataframe thead th {\n",
              "        text-align: right;\n",
              "    }\n",
              "</style>\n",
              "<table border=\"1\" class=\"dataframe\">\n",
              "  <thead>\n",
              "    <tr style=\"text-align: right;\">\n",
              "      <th></th>\n",
              "      <th>Unnamed: 0</th>\n",
              "      <th>fileNameActual</th>\n",
              "      <th>FileName</th>\n",
              "      <th>content</th>\n",
              "      <th>Label</th>\n",
              "    </tr>\n",
              "  </thead>\n",
              "  <tbody>\n",
              "    <tr>\n",
              "      <th>0</th>\n",
              "      <td>0</td>\n",
              "      <td>trans.4039.txt</td>\n",
              "      <td>4039</td>\n",
              "      <td>. course i don't like talking about budgets la...</td>\n",
              "      <td>Family Finance</td>\n",
              "    </tr>\n",
              "    <tr>\n",
              "      <th>1</th>\n",
              "      <td>1</td>\n",
              "      <td>trans.3786.txt</td>\n",
              "      <td>3786</td>\n",
              "      <td>. -hello okay so you were with TI huh yeah i'v...</td>\n",
              "      <td>Job Benefits</td>\n",
              "    </tr>\n",
              "    <tr>\n",
              "      <th>2</th>\n",
              "      <td>2</td>\n",
              "      <td>trans.2348.txt</td>\n",
              "      <td>2348</td>\n",
              "      <td>hi Ellen. hi. um do you uh could you tell me ...</td>\n",
              "      <td>Family Finance</td>\n",
              "    </tr>\n",
              "    <tr>\n",
              "      <th>3</th>\n",
              "      <td>3</td>\n",
              "      <td>trans.3409.txt</td>\n",
              "      <td>3409</td>\n",
              "      <td>. so how many um credit cards do you have. um ...</td>\n",
              "      <td>Credit Card</td>\n",
              "    </tr>\n",
              "    <tr>\n",
              "      <th>4</th>\n",
              "      <td>4</td>\n",
              "      <td>trans.3675.txt</td>\n",
              "      <td>3675</td>\n",
              "      <td>do you wanna tell me about your budgeting pla...</td>\n",
              "      <td>Family Finance</td>\n",
              "    </tr>\n",
              "    <tr>\n",
              "      <th>...</th>\n",
              "      <td>...</td>\n",
              "      <td>...</td>\n",
              "      <td>...</td>\n",
              "      <td>...</td>\n",
              "      <td>...</td>\n",
              "    </tr>\n",
              "    <tr>\n",
              "      <th>235</th>\n",
              "      <td>235</td>\n",
              "      <td>trans.4863.txt</td>\n",
              "      <td>4863</td>\n",
              "      <td>. we're supposed to talk about if we agree on ...</td>\n",
              "      <td>Taxes</td>\n",
              "    </tr>\n",
              "    <tr>\n",
              "      <th>236</th>\n",
              "      <td>236</td>\n",
              "      <td>trans.2399.txt</td>\n",
              "      <td>2399</td>\n",
              "      <td>okay um let's see how do you feel about laugh...</td>\n",
              "      <td>Credit Card</td>\n",
              "    </tr>\n",
              "    <tr>\n",
              "      <th>237</th>\n",
              "      <td>237</td>\n",
              "      <td>trans.4155.txt</td>\n",
              "      <td>4155</td>\n",
              "      <td>. um. what's our topic. taxes do we pay too mu...</td>\n",
              "      <td>Taxes</td>\n",
              "    </tr>\n",
              "    <tr>\n",
              "      <th>238</th>\n",
              "      <td>238</td>\n",
              "      <td>trans.2917.txt</td>\n",
              "      <td>2917</td>\n",
              "      <td>hi what do you do with your credit cards. oh ...</td>\n",
              "      <td>Credit Card</td>\n",
              "    </tr>\n",
              "    <tr>\n",
              "      <th>239</th>\n",
              "      <td>239</td>\n",
              "      <td>trans.3739.txt</td>\n",
              "      <td>3739</td>\n",
              "      <td>okay_1 i guess we start talking about the bud...</td>\n",
              "      <td>Budget</td>\n",
              "    </tr>\n",
              "  </tbody>\n",
              "</table>\n",
              "<p>240 rows × 5 columns</p>\n",
              "</div>"
            ],
            "text/plain": [
              "     Unnamed: 0  ...           Label\n",
              "0             0  ...  Family Finance\n",
              "1             1  ...    Job Benefits\n",
              "2             2  ...  Family Finance\n",
              "3             3  ...     Credit Card\n",
              "4             4  ...  Family Finance\n",
              "..          ...  ...             ...\n",
              "235         235  ...           Taxes\n",
              "236         236  ...     Credit Card\n",
              "237         237  ...           Taxes\n",
              "238         238  ...     Credit Card\n",
              "239         239  ...          Budget\n",
              "\n",
              "[240 rows x 5 columns]"
            ]
          },
          "metadata": {
            "tags": []
          },
          "execution_count": 25
        }
      ]
    },
    {
      "cell_type": "code",
      "metadata": {
        "id": "QnF7LnozrlMT",
        "colab": {
          "base_uri": "https://localhost:8080/",
          "height": 350
        },
        "outputId": "bef3678b-bfda-405c-84d3-b11f23a989ee"
      },
      "source": [
        "sns.countplot(final_df['Label'])"
      ],
      "execution_count": null,
      "outputs": [
        {
          "output_type": "stream",
          "text": [
            "/usr/local/lib/python3.7/dist-packages/seaborn/_decorators.py:43: FutureWarning: Pass the following variable as a keyword arg: x. From version 0.12, the only valid positional argument will be `data`, and passing other arguments without an explicit keyword will result in an error or misinterpretation.\n",
            "  FutureWarning\n"
          ],
          "name": "stderr"
        },
        {
          "output_type": "execute_result",
          "data": {
            "text/plain": [
              "<matplotlib.axes._subplots.AxesSubplot at 0x7ff5d678a0d0>"
            ]
          },
          "metadata": {
            "tags": []
          },
          "execution_count": 26
        },
        {
          "output_type": "display_data",
          "data": {
            "image/png": "[encoded data removed]",
            "text/plain": [
              "<Figure size 432x288 with 1 Axes>"
            ]
          },
          "metadata": {
            "tags": [],
            "needs_background": "light"
          }
        }
      ]
    },
    {
      "cell_type": "code",
      "metadata": {
        "colab": {
          "base_uri": "https://localhost:8080/"
        },
        "id": "HO1w5eOV_ZyL",
        "outputId": "2946fb5b-502b-489d-fe6d-a6e97b909888"
      },
      "source": [
        "final_df[\"Label\"].value_counts()"
      ],
      "execution_count": null,
      "outputs": [
        {
          "output_type": "execute_result",
          "data": {
            "text/plain": [
              "Family Finance    63\n",
              "Job Benefits      54\n",
              "Taxes             54\n",
              "Credit Card       41\n",
              "Budget            22\n",
              "Bank Bailout       6\n",
              "Name: Label, dtype: int64"
            ]
          },
          "metadata": {
            "tags": []
          },
          "execution_count": 27
        }
      ]
    },
    {
      "cell_type": "code",
      "metadata": {
        "id": "yvRHTNySSLr9"
      },
      "source": [
        ""
      ],
      "execution_count": null,
      "outputs": []
    },
    {
      "cell_type": "code",
      "metadata": {
        "id": "33bWMbQXSPjf"
      },
      "source": [
        "# from imblearn.over_sampling import SMOTE\n",
        "# oversample = SMOTE()\n",
        "# X = \n",
        "# X, y = oversample.fit_resample(X, y)"
      ],
      "execution_count": null,
      "outputs": []
    },
    {
      "cell_type": "code",
      "metadata": {
        "colab": {
          "base_uri": "https://localhost:8080/",
          "height": 265
        },
        "id": "iPFuLMsn_aW3",
        "outputId": "115560ad-6d95-40da-9a01-ad6e62a97f02"
      },
      "source": [
        "final_df['word_length'] = final_df.content.apply(lambda i: len(i.split()))\n",
        "# final_df.plot(kind='scatter',x='num_children',y='num_pets',color='red')\n",
        "final_df['word_length'].plot(kind='line')\n",
        "plt.show()\n"
      ],
      "execution_count": null,
      "outputs": [
        {
          "output_type": "display_data",
          "data": {
            "image/png": "[encoded data removed]",
            "text/plain": [
              "<Figure size 432x288 with 1 Axes>"
            ]
          },
          "metadata": {
            "tags": [],
            "needs_background": "light"
          }
        }
      ]
    },
    {
      "cell_type": "code",
      "metadata": {
        "colab": {
          "base_uri": "https://localhost:8080/"
        },
        "id": "chl7JzDAGOoz",
        "outputId": "57276d3b-0565-4dfa-cb26-70826b275406"
      },
      "source": [
        "final_df['word_length'].describe()"
      ],
      "execution_count": null,
      "outputs": [
        {
          "output_type": "execute_result",
          "data": {
            "text/plain": [
              "count     240.000000\n",
              "mean     1255.870833\n",
              "std       444.649149\n",
              "min       586.000000\n",
              "25%       930.500000\n",
              "50%      1057.000000\n",
              "75%      1599.000000\n",
              "max      2378.000000\n",
              "Name: word_length, dtype: float64"
            ]
          },
          "metadata": {
            "tags": []
          },
          "execution_count": 30
        }
      ]
    },
    {
      "cell_type": "code",
      "metadata": {
        "colab": {
          "base_uri": "https://localhost:8080/"
        },
        "id": "v950XFyRCcEs",
        "outputId": "5db609ec-3a6a-438a-e9f1-bb708fcb3ce0"
      },
      "source": [
        "final_df['word_length'].quantile([.1, .25, .5, .75])"
      ],
      "execution_count": null,
      "outputs": [
        {
          "output_type": "execute_result",
          "data": {
            "text/plain": [
              "0.10     863.6\n",
              "0.25     930.5\n",
              "0.50    1057.0\n",
              "0.75    1599.0\n",
              "Name: word_length, dtype: float64"
            ]
          },
          "metadata": {
            "tags": []
          },
          "execution_count": 31
        }
      ]
    },
    {
      "cell_type": "markdown",
      "metadata": {
        "id": "QrkjF3lHsgSR"
      },
      "source": [
        "# Feature Extraction"
      ]
    },
    {
      "cell_type": "code",
      "metadata": {
        "colab": {
          "base_uri": "https://localhost:8080/",
          "height": 154,
          "referenced_widgets": [
            "410170c100704dc1b827894bfca186f8",
            "8ad9f4ddfbba4d9ab98cfdc640b31d1f",
            "ba8b0fcb94524373b0431933a8aeb00f",
            "c3f1015384a6465189ea581322a5e251",
            "580ac149dbea4cc19383bf28939d0367",
            "7e9f762c5909408f8b26fdd529d6e293",
            "6bc9518930d84c9d849c80facd579179",
            "e1060fa47a4643b3a08a0503f378d83c"
          ]
        },
        "id": "9eNdSVyMsiJa",
        "outputId": "ae48976c-833d-4e43-b12e-f43aaf45ce74"
      },
      "source": [
        "from tqdm import tqdm, tqdm_notebook\n",
        "tqdm_notebook().pandas()\n",
        "from nltk.tokenize import word_tokenize\n",
        "from nltk.stem import PorterStemmer\n",
        "ps = PorterStemmer()\n",
        "from nltk import pos_tag\n",
        "from nltk.corpus import stopwords\n",
        "from nltk.stem import WordNetLemmatizer\n",
        "from collections import defaultdict\n",
        "from nltk.corpus import wordnet as wn\n",
        "from nltk.tokenize import word_tokenize\n",
        "from nltk.stem import PorterStemmer\n",
        "import re\n",
        "def process(text):\n",
        "    # Remove all the special characters\n",
        "    text = re.sub(r'\\W', ' ', str(text))\n",
        "    \n",
        "    # remove all single characters\n",
        "    #text = re.sub(r'\\s+[a-zA-Z]\\s+', ' ', text)\n",
        "    \n",
        "    # Substituting multiple spaces with single space\n",
        "    text = re.sub(r'\\s+', ' ', text, flags=re.I)\n",
        "    processed_text = text.lower()\n",
        "    # text_list = word_tokenize(processed_text)\n",
        "    # stemmed_text\n",
        "    # for word in text_list:\n",
        "    #     word = ps.stem(word)\n",
        "    # processed_text = \" \".join(text_list)\n",
        "    return processed_text"
      ],
      "execution_count": null,
      "outputs": [
        {
          "output_type": "stream",
          "text": [
            "/usr/local/lib/python3.7/dist-packages/ipykernel_launcher.py:2: TqdmDeprecationWarning: This function will be removed in tqdm==5.0.0\n",
            "Please use `tqdm.notebook.tqdm` instead of `tqdm.tqdm_notebook`\n",
            "  \n"
          ],
          "name": "stderr"
        },
        {
          "output_type": "display_data",
          "data": {
            "application/vnd.jupyter.widget-view+json": {
              "model_id": "410170c100704dc1b827894bfca186f8",
              "version_minor": 0,
              "version_major": 2
            },
            "text/plain": [
              "HBox(children=(FloatProgress(value=1.0, bar_style='info', max=1.0), HTML(value='')))"
            ]
          },
          "metadata": {
            "tags": []
          }
        },
        {
          "output_type": "stream",
          "text": [
            "/usr/local/lib/python3.7/dist-packages/tqdm/std.py:658: FutureWarning: The Panel class is removed from pandas. Accessing it from the top-level namespace will also be removed in the next version\n",
            "  from pandas import Panel\n"
          ],
          "name": "stderr"
        }
      ]
    },
    {
      "cell_type": "code",
      "metadata": {
        "colab": {
          "base_uri": "https://localhost:8080/",
          "height": 83,
          "referenced_widgets": [
            "2e5fa4553e504114a374b1350d3a60c5",
            "5df38ba892e74eaba029b28eeeda0b22",
            "28cda449ce0c430eb530a88cdd68ace5",
            "60d0812f413b44339d8435e748f6ff37",
            "e03a28a7ea774d88a96b5fa0777ad9e3",
            "8696e4bf2a434ca79980739c3a2f27c2",
            "45a2b6d12a3241a9b1a7c84111d70fe2",
            "178c46dc690d4e87835a32e030b282b9"
          ]
        },
        "id": "iQV8niOlC5nH",
        "outputId": "6e5ec6cc-95f9-4729-b80b-9afd22c1006e"
      },
      "source": [
        "final_df['content_processed'] = final_df[\"content\"].progress_apply(process)"
      ],
      "execution_count": null,
      "outputs": [
        {
          "output_type": "stream",
          "text": [
            "\n"
          ],
          "name": "stdout"
        },
        {
          "output_type": "display_data",
          "data": {
            "application/vnd.jupyter.widget-view+json": {
              "model_id": "2e5fa4553e504114a374b1350d3a60c5",
              "version_minor": 0,
              "version_major": 2
            },
            "text/plain": [
              "HBox(children=(FloatProgress(value=0.0, max=240.0), HTML(value='')))"
            ]
          },
          "metadata": {
            "tags": []
          }
        },
        {
          "output_type": "stream",
          "text": [
            "\n"
          ],
          "name": "stdout"
        }
      ]
    },
    {
      "cell_type": "code",
      "metadata": {
        "id": "lLotbIGVDMmn"
      },
      "source": [
        "text = np.array(final_df['content_processed'])\n",
        "category = np.array(final_df['Label']) \n",
        "Train_X, Test_X, Train_Y, Test_Y = train_test_split(text, category, test_size=0.2, random_state=101)"
      ],
      "execution_count": null,
      "outputs": []
    },
    {
      "cell_type": "code",
      "metadata": {
        "colab": {
          "base_uri": "https://localhost:8080/"
        },
        "id": "_RIgEHHDDbok",
        "outputId": "c29419f7-56f8-4d18-949c-59d777aed6f6"
      },
      "source": [
        "# build TFIDF features on train articles\n",
        "# tv = TfidfVectorizer(min_df=0.0, max_df=1.0, ngram_range=(1,1),stop_words='english', max_features= 5000,\n",
        "                    #  sublinear_tf=True)\n",
        "# tv.fit(text)\n",
        "from sklearn.feature_extraction.text import CountVectorizer\n",
        "\n",
        "tv = CountVectorizer(min_df=0, lowercase=False)\n",
        "tv.fit(text)\n",
        "Train_X = tv.transform(Train_X)\n",
        "Test_X  = tv.transform(Test_X)\n",
        "Train_X"
      ],
      "execution_count": null,
      "outputs": [
        {
          "output_type": "execute_result",
          "data": {
            "text/plain": [
              "<192x7464 sparse matrix of type '<class 'numpy.int64'>'\n",
              "\twith 65094 stored elements in Compressed Sparse Row format>"
            ]
          },
          "metadata": {
            "tags": []
          },
          "execution_count": 35
        }
      ]
    },
    {
      "cell_type": "code",
      "metadata": {
        "id": "3leXYcLUT8jU"
      },
      "source": [
        ""
      ],
      "execution_count": null,
      "outputs": []
    },
    {
      "cell_type": "markdown",
      "metadata": {
        "id": "DVbajOSLSMc5"
      },
      "source": [
        "# SMOTE"
      ]
    },
    {
      "cell_type": "code",
      "metadata": {
        "colab": {
          "base_uri": "https://localhost:8080/"
        },
        "id": "fPgJRouUS3en",
        "outputId": "9793f8ce-66d1-4f42-99f9-037577213158"
      },
      "source": [
        "from imblearn.over_sampling import SMOTE\n",
        "oversample = SMOTE(sampling_strategy='minority', k_neighbors=4)\n",
        "Train_X, Train_Y = oversample.fit_resample(Train_X, Train_Y)\n",
        "# X"
      ],
      "execution_count": null,
      "outputs": [
        {
          "output_type": "stream",
          "text": [
            "/usr/local/lib/python3.7/dist-packages/sklearn/utils/deprecation.py:87: FutureWarning: Function safe_indexing is deprecated; safe_indexing is deprecated in version 0.22 and will be removed in version 0.24.\n",
            "  warnings.warn(msg, category=FutureWarning)\n"
          ],
          "name": "stderr"
        }
      ]
    },
    {
      "cell_type": "code",
      "metadata": {
        "id": "Ig6sAKZJTved"
      },
      "source": [
        "# Train_Y.shape\n"
      ],
      "execution_count": null,
      "outputs": []
    },
    {
      "cell_type": "code",
      "metadata": {
        "colab": {
          "base_uri": "https://localhost:8080/"
        },
        "id": "fcPq_LpyDgAb",
        "outputId": "761c9657-db8c-41cd-cb25-96a53ab87560"
      },
      "source": [
        "print('TFIDF model:> Train features shape:', Train_X.shape)\n",
        "print('TFIDF model:> Test features shape:', Test_X.shape)"
      ],
      "execution_count": null,
      "outputs": [
        {
          "output_type": "stream",
          "text": [
            "TFIDF model:> Train features shape: (238, 7464)\n",
            "TFIDF model:> Test features shape: (48, 7464)\n"
          ],
          "name": "stdout"
        }
      ]
    },
    {
      "cell_type": "code",
      "metadata": {
        "colab": {
          "base_uri": "https://localhost:8080/"
        },
        "id": "1bAiSx-XDj0Y",
        "outputId": "4bbf9fe8-d498-4fb0-b077-20c804597fd5"
      },
      "source": [
        "Encoder = LabelEncoder()\n",
        "Train_Y = Encoder.fit_transform(Train_Y)\n",
        "Test_Y = Encoder.fit_transform(Test_Y)\n",
        "print('Train label shape:', Train_Y.shape)\n",
        "print('Test label shape: ', Test_Y.shape)"
      ],
      "execution_count": null,
      "outputs": [
        {
          "output_type": "stream",
          "text": [
            "Train label shape: (238,)\n",
            "Test label shape:  (48,)\n"
          ],
          "name": "stdout"
        }
      ]
    },
    {
      "cell_type": "markdown",
      "metadata": {
        "id": "JtizBhXKsixz"
      },
      "source": [
        "# ML model Creation"
      ]
    },
    {
      "cell_type": "code",
      "metadata": {
        "id": "CnZBwQ4DskZz"
      },
      "source": [
        "from keras.models import Sequential\n",
        "from keras import layers\n",
        "\n",
        "input_dim = Train_X.shape[1]  # Number of features\n",
        "\n",
        "model = Sequential()\n",
        "model.add(layers.Dense(10, input_dim=input_dim, activation='relu'))\n",
        "model.add(layers.Dense(6, activation='Softmax'))"
      ],
      "execution_count": null,
      "outputs": []
    },
    {
      "cell_type": "code",
      "metadata": {
        "colab": {
          "base_uri": "https://localhost:8080/"
        },
        "id": "oAdtNsN_DsHj",
        "outputId": "4db5f1a4-75dd-4b60-bbd5-3dc8f07f47e8"
      },
      "source": [
        "model.compile(loss='sparse_categorical_crossentropy', \n",
        "               optimizer='adam', \n",
        "               metrics=['accuracy'])\n",
        "model.summary()"
      ],
      "execution_count": null,
      "outputs": [
        {
          "output_type": "stream",
          "text": [
            "Model: \"sequential\"\n",
            "_________________________________________________________________\n",
            "Layer (type)                 Output Shape              Param #   \n",
            "=================================================================\n",
            "dense (Dense)                (None, 10)                74650     \n",
            "_________________________________________________________________\n",
            "dense_1 (Dense)              (None, 6)                 66        \n",
            "=================================================================\n",
            "Total params: 74,716\n",
            "Trainable params: 74,716\n",
            "Non-trainable params: 0\n",
            "_________________________________________________________________\n"
          ],
          "name": "stdout"
        }
      ]
    },
    {
      "cell_type": "code",
      "metadata": {
        "colab": {
          "base_uri": "https://localhost:8080/"
        },
        "id": "x_dUybSQDsem",
        "outputId": "4ce7f61f-0c7c-41d2-84b8-e7d8b4390186"
      },
      "source": [
        ">>> history = model.fit(Train_X, Train_Y,\n",
        "...                     epochs=15,\n",
        "...                     verbose=True,\n",
        "...                     batch_size=64)"
      ],
      "execution_count": null,
      "outputs": [
        {
          "output_type": "stream",
          "text": [
            "Epoch 1/15\n"
          ],
          "name": "stdout"
        },
        {
          "output_type": "stream",
          "text": [
            "/usr/local/lib/python3.7/dist-packages/tensorflow/python/framework/indexed_slices.py:449: UserWarning: Converting sparse IndexedSlices(IndexedSlices(indices=Tensor(\"gradient_tape/sequential/dense/embedding_lookup_sparse/Reshape_1:0\", shape=(None,), dtype=int32), values=Tensor(\"gradient_tape/sequential/dense/embedding_lookup_sparse/Reshape:0\", shape=(None, 10), dtype=float32), dense_shape=Tensor(\"gradient_tape/sequential/dense/embedding_lookup_sparse/Cast:0\", shape=(2,), dtype=int32))) to a dense Tensor of unknown shape. This may consume a large amount of memory.\n",
            "  \"shape. This may consume a large amount of memory.\" % value)\n"
          ],
          "name": "stderr"
        },
        {
          "output_type": "stream",
          "text": [
            "4/4 [==============================] - 12s 6ms/step - loss: 2.2467 - accuracy: 0.2773\n",
            "Epoch 2/15\n",
            "4/4 [==============================] - 0s 5ms/step - loss: 1.3448 - accuracy: 0.4304\n",
            "Epoch 3/15\n",
            "4/4 [==============================] - 0s 5ms/step - loss: 1.0717 - accuracy: 0.5950\n",
            "Epoch 4/15\n",
            "4/4 [==============================] - 0s 5ms/step - loss: 0.7993 - accuracy: 0.7120\n",
            "Epoch 5/15\n",
            "4/4 [==============================] - 0s 5ms/step - loss: 0.5763 - accuracy: 0.8181\n",
            "Epoch 6/15\n",
            "4/4 [==============================] - 0s 6ms/step - loss: 0.3810 - accuracy: 0.9333\n",
            "Epoch 7/15\n",
            "4/4 [==============================] - 0s 5ms/step - loss: 0.3370 - accuracy: 0.9310\n",
            "Epoch 8/15\n",
            "4/4 [==============================] - 0s 5ms/step - loss: 0.2496 - accuracy: 0.9421\n",
            "Epoch 9/15\n",
            "4/4 [==============================] - 0s 5ms/step - loss: 0.2064 - accuracy: 0.9437\n",
            "Epoch 10/15\n",
            "4/4 [==============================] - 0s 6ms/step - loss: 0.1597 - accuracy: 0.9509\n",
            "Epoch 11/15\n",
            "4/4 [==============================] - 0s 5ms/step - loss: 0.1421 - accuracy: 0.9416\n",
            "Epoch 12/15\n",
            "4/4 [==============================] - 0s 5ms/step - loss: 0.1397 - accuracy: 0.9354\n",
            "Epoch 13/15\n",
            "4/4 [==============================] - 0s 5ms/step - loss: 0.0955 - accuracy: 0.9677\n",
            "Epoch 14/15\n",
            "4/4 [==============================] - 0s 6ms/step - loss: 0.1073 - accuracy: 0.9652\n",
            "Epoch 15/15\n",
            "4/4 [==============================] - 0s 5ms/step - loss: 0.0790 - accuracy: 0.9731\n"
          ],
          "name": "stdout"
        }
      ]
    },
    {
      "cell_type": "code",
      "metadata": {
        "id": "WjBYJ_oSFMXY"
      },
      "source": [
        "# tf.keras.backend.clear_session()"
      ],
      "execution_count": null,
      "outputs": []
    },
    {
      "cell_type": "markdown",
      "metadata": {
        "id": "yvU2Q2ewskxU"
      },
      "source": [
        "# Accuracy "
      ]
    },
    {
      "cell_type": "code",
      "metadata": {
        "colab": {
          "base_uri": "https://localhost:8080/"
        },
        "id": "JnA9eyrRsmdA",
        "outputId": "b292deb5-51d6-43a8-cd90-522705a154db"
      },
      "source": [
        "loss, accuracy = model.evaluate(Train_X, Train_Y, verbose=False)\n",
        "print(\"Training Accuracy: {:.4f}\".format(accuracy))\n",
        "loss, accuracy = model.evaluate(Test_X, Test_Y, verbose=False)\n",
        "print(\"Testing Accuracy:  {:.4f}\".format(accuracy))"
      ],
      "execution_count": null,
      "outputs": [
        {
          "output_type": "stream",
          "text": [
            "Training Accuracy: 0.9706\n",
            "Testing Accuracy:  0.8125\n"
          ],
          "name": "stdout"
        }
      ]
    },
    {
      "cell_type": "code",
      "metadata": {
        "colab": {
          "base_uri": "https://localhost:8080/"
        },
        "id": "u1kkOvfNEAXA",
        "outputId": "b27b9f01-b014-4e5b-cef7-381f8faa999d"
      },
      "source": [
        "from sklearn import metrics\n",
        "from sklearn.metrics import accuracy_score,recall_score,precision_score,f1_score,confusion_matrix,auc,roc_auc_score,classification_report\n",
        "y_score = model.predict_classes(Test_X)\n",
        "print(y_score.shape)\n",
        "print(\"*\"*10)\n",
        "# y_pred_test = clf.predict(tfidf_test_features)\n",
        "print(\"Confusion matrix \\n\", metrics.confusion_matrix(Test_Y, y_score))\n",
        "cr=classification_report(Test_Y,y_score)\n",
        "print(cr)"
      ],
      "execution_count": null,
      "outputs": [
        {
          "output_type": "stream",
          "text": [
            "/usr/local/lib/python3.7/dist-packages/keras/engine/sequential.py:450: UserWarning: `model.predict_classes()` is deprecated and will be removed after 2021-01-01. Please use instead:* `np.argmax(model.predict(x), axis=-1)`,   if your model does multi-class classification   (e.g. if it uses a `softmax` last-layer activation).* `(model.predict(x) > 0.5).astype(\"int32\")`,   if your model does binary classification   (e.g. if it uses a `sigmoid` last-layer activation).\n",
            "  warnings.warn('`model.predict_classes()` is deprecated and '\n"
          ],
          "name": "stderr"
        },
        {
          "output_type": "stream",
          "text": [
            "(48,)\n",
            "**********\n",
            "Confusion matrix \n",
            " [[ 0  0  0  0  0  1]\n",
            " [ 0  0  0  0  2  6]\n",
            " [ 0  0  8  0  0  0]\n",
            " [ 0  0  0 12  0  0]\n",
            " [ 0  0  0  0  9  0]\n",
            " [ 0  0  0  0  0 10]]\n",
            "              precision    recall  f1-score   support\n",
            "\n",
            "           0       0.00      0.00      0.00         1\n",
            "           1       0.00      0.00      0.00         8\n",
            "           2       1.00      1.00      1.00         8\n",
            "           3       1.00      1.00      1.00        12\n",
            "           4       0.82      1.00      0.90         9\n",
            "           5       0.59      1.00      0.74        10\n",
            "\n",
            "    accuracy                           0.81        48\n",
            "   macro avg       0.57      0.67      0.61        48\n",
            "weighted avg       0.69      0.81      0.74        48\n",
            "\n"
          ],
          "name": "stdout"
        },
        {
          "output_type": "stream",
          "text": [
            "/usr/local/lib/python3.7/dist-packages/sklearn/metrics/_classification.py:1272: UndefinedMetricWarning: Precision and F-score are ill-defined and being set to 0.0 in labels with no predicted samples. Use `zero_division` parameter to control this behavior.\n",
            "  _warn_prf(average, modifier, msg_start, len(result))\n"
          ],
          "name": "stderr"
        }
      ]
    },
    {
      "cell_type": "code",
      "metadata": {
        "id": "q6AJDbPBED9k"
      },
      "source": [
        "import matplotlib.pyplot as plt\n",
        "plt.style.use('ggplot')\n",
        "\n",
        "def plot_history(history):\n",
        "    acc = history.history['accuracy']\n",
        "    # val_acc = history.history['val_accuracy']\n",
        "    loss = history.history['loss']\n",
        "    # val_loss = history.history['val_loss']\n",
        "    x = range(1, len(acc) + 1)\n",
        "\n",
        "    plt.figure(figsize=(12, 5))\n",
        "    plt.subplot(1, 2, 1)\n",
        "    plt.plot(x, acc, 'b', label='Training acc')\n",
        "    # plt.plot(x, val_acc, 'r', label='Validation acc')\n",
        "    plt.title('Training and validation accuracy')\n",
        "    plt.legend()\n",
        "    plt.subplot(1, 2, 2)\n",
        "    plt.plot(x, loss, 'b', label='Training loss')\n",
        "    # plt.plot(x, val_loss, 'r', label='Validation loss')\n",
        "    plt.title('Training and validation loss')\n",
        "    plt.legend()"
      ],
      "execution_count": null,
      "outputs": []
    },
    {
      "cell_type": "code",
      "metadata": {
        "colab": {
          "base_uri": "https://localhost:8080/",
          "height": 337
        },
        "id": "R3NXYRsFEG3b",
        "outputId": "374f8350-6649-405d-cc81-af9bc71de506"
      },
      "source": [
        "plot_history(history)"
      ],
      "execution_count": null,
      "outputs": [
        {
          "output_type": "display_data",
          "data": {
            "image/png": "[encoded data removed]",
            "text/plain": [
              "<Figure size 864x360 with 2 Axes>"
            ]
          },
          "metadata": {
            "tags": []
          }
        }
      ]
    },
    {
      "cell_type": "code",
      "metadata": {
        "colab": {
          "base_uri": "https://localhost:8080/"
        },
        "id": "ltNLT91KlpWi",
        "outputId": "c4bfd569-e98c-41d9-9c86-a407d4012bae"
      },
      "source": [
        "print(\"0 = \",Encoder.inverse_transform([0])[0])\n",
        "print(\"1 = \",Encoder.inverse_transform([1])[0])\n",
        "print(\"2 = \",Encoder.inverse_transform([2])[0])\n",
        "print(\"3 = \",Encoder.inverse_transform([3])[0])\n",
        "print(\"4 = \",Encoder.inverse_transform([4])[0])\n",
        "print(\"5 = \",Encoder.inverse_transform([5])[0])"
      ],
      "execution_count": null,
      "outputs": [
        {
          "output_type": "stream",
          "text": [
            "0 =  Bank Bailout\n",
            "1 =  Budget\n",
            "2 =  Credit Card\n",
            "3 =  Family Finance\n",
            "4 =  Job Benefits\n",
            "5 =  Taxes\n"
          ],
          "name": "stdout"
        }
      ]
    },
    {
      "cell_type": "code",
      "metadata": {
        "id": "QS1v-lZ8nyAy"
      },
      "source": [
        "# content = {\n",
        "#     \"Train Sample Count\": Train_X.shape[0],\n",
        "#     \"Test Sample Count\": Test_X.shape[0],\n",
        "#     \"Num of Classes\": final_df['Label'].nunique(),\n",
        "#     \"Num of Features\": Test_X.shape[1],\n",
        "#     \"kernel\": \"rbf\",\n",
        "#     \"Training Accuracy\": \"{:.3f}\".format(clf.score(train_x_feature, Train_Y)),\n",
        "#     \"Test Accuracy\": \"{:.3f}\".format(clf.score(test_x_feature, Test_Y)),\n",
        "#     \"Precision\": \"{:.3f}\".format(precision),\n",
        "#     \"Recall\": \"{:.3f}\".format(recall)\n",
        "# }\n",
        "\n",
        "# import json\n",
        "# print(json.dumps(content, indent = 1)) "
      ],
      "execution_count": null,
      "outputs": []
    },
    {
      "cell_type": "code",
      "metadata": {
        "id": "gi8AlaJnsn6v"
      },
      "source": [
        "def get_prediction(sent):\n",
        "    sent = process(sent)\n",
        "    test_vec = tv.transform([sent])\n",
        "    # SVM.predict(test_vec)\n",
        "\n",
        "    class_value = model.predict_classes(test_vec)\n",
        "    # prob = clf.predict_proba(test_vec)[0][class_value[0]]\n",
        "#     print(\"Calss_value = \", class_value)\n",
        "#     print(\"Predicted Class = \", Encoder.inverse_transform(class_value)[0])\n",
        "#     print(\"Probabilty  = \", prob)\n",
        "    return Encoder.inverse_transform(class_value)[0]"
      ],
      "execution_count": null,
      "outputs": []
    },
    {
      "cell_type": "markdown",
      "metadata": {
        "id": "EnMDPtfIsppZ"
      },
      "source": [
        "# Model Save"
      ]
    },
    {
      "cell_type": "code",
      "metadata": {
        "id": "E52bnDL_s6b7"
      },
      "source": [
        "# model.save('c2v_model')\n",
        "# import pickle\n",
        "pickle.dump(Encoder, open(\"c2v_encoder.pickle\", 'wb'))\n",
        "pickle.dump(tv, open(\"c2v_count_vector.pickle\", 'wb'))"
      ],
      "execution_count": null,
      "outputs": []
    },
    {
      "cell_type": "code",
      "metadata": {
        "id": "BFXmx4juIZhu"
      },
      "source": [
        "# Zero Shot experiment"
      ],
      "execution_count": null,
      "outputs": []
    },
    {
      "cell_type": "code",
      "metadata": {
        "id": "gO7h8jizIe-J"
      },
      "source": [
        ""
      ],
      "execution_count": null,
      "outputs": []
    },
    {
      "cell_type": "markdown",
      "metadata": {
        "id": "1JiGy_jwJcZa"
      },
      "source": [
        "# Other embeddings"
      ]
    },
    {
      "cell_type": "code",
      "metadata": {
        "colab": {
          "base_uri": "https://localhost:8080/"
        },
        "id": "EqUeolVgNPHv",
        "outputId": "284cac6f-f231-4369-9673-6f90bcddcb6e"
      },
      "source": [
        "# This Python 3 environment comes with many helpful analytics libraries installed\n",
        "# It is defined by the kaggle/python docker image: https://github.com/kaggle/docker-python\n",
        "# For example, here's several helpful packages to load in \n",
        "\n",
        "import numpy as np # linear algebra\n",
        "import pandas as pd # data processing, CSV file I/O (e.g. pd.read_csv)\n",
        "import keras\n",
        "from keras.preprocessing.text import Tokenizer\n",
        "from keras.preprocessing.sequence import pad_sequences\n",
        "import gensim\n",
        "import nltk\n",
        "from nltk.tokenize import RegexpTokenizer\n",
        "from nltk.corpus import stopwords\n",
        "import re\n",
        "import codecs\n",
        "import matplotlib.pyplot as plt\n",
        "import nltk\n",
        "nltk.download('stopwords')\n",
        "\n",
        "stop_words = set(stopwords.words('english'))\n",
        "# Any results you write to the current directory are saved as output."
      ],
      "execution_count": null,
      "outputs": [
        {
          "output_type": "stream",
          "text": [
            "[nltk_data] Downloading package stopwords to /root/nltk_data...\n",
            "[nltk_data]   Unzipping corpora/stopwords.zip.\n"
          ],
          "name": "stdout"
        }
      ]
    },
    {
      "cell_type": "code",
      "metadata": {
        "colab": {
          "base_uri": "https://localhost:8080/"
        },
        "id": "nBZwOQRjOazI",
        "outputId": "1c2ad3f8-2931-4233-e888-9f89af00bc08"
      },
      "source": [
        "!pip install wget\n",
        "import os\n",
        "import wget\n",
        "import gzip\n",
        "import shutil\n",
        "\n",
        "gn_vec_path = \"GoogleNews-vectors-negative300.bin\"\n",
        "if not os.path.exists(\"GoogleNews-vectors-negative300.bin\"):\n",
        "    if not os.path.exists(\"../Ch2/GoogleNews-vectors-negative300.bin\"):\n",
        "        #Downloading the reqired model\n",
        "        if not os.path.exists(\"../Ch2/GoogleNews-vectors-negative300.bin.gz\"):\n",
        "            if not os.path.exists(\"GoogleNews-vectors-negative300.bin.gz\"):\n",
        "                wget.download(\"https://s3.amazonaws.com/dl4j-distribution/GoogleNews-vectors-negative300.bin.gz\")\n",
        "            gn_vec_zip_path = \"GoogleNews-vectors-negative300.bin.gz\"\n",
        "        else:\n",
        "            gn_vec_zip_path = \"../Ch2/GoogleNews-vectors-negative300.bin.gz\"\n",
        "        #Extracting the required model\n",
        "        with gzip.open(gn_vec_zip_path, 'rb') as f_in:\n",
        "            with open(gn_vec_path, 'wb') as f_out:\n",
        "                shutil.copyfileobj(f_in, f_out)\n",
        "    else:\n",
        "        gn_vec_path = \"../Ch2/\" + gn_vec_path\n",
        "\n",
        "print(f\"Model at {gn_vec_path}\")"
      ],
      "execution_count": null,
      "outputs": [
        {
          "output_type": "stream",
          "text": [
            "Collecting wget\n",
            "  Downloading https://files.pythonhosted.org/packages/47/6a/62e288da7bcda82b935ff0c6cfe542970f04e29c756b0e147251b2fb251f/wget-3.2.zip\n",
            "Building wheels for collected packages: wget\n",
            "  Building wheel for wget (setup.py) ... \u001b[?25l\u001b[?25hdone\n",
            "  Created wheel for wget: filename=wget-3.2-cp37-none-any.whl size=9675 sha256=1b132cf1188790e54faf8f89195f22df186a1cf7baaccea37bc74825aaeed961\n",
            "  Stored in directory: /root/.cache/pip/wheels/40/15/30/7d8f7cea2902b4db79e3fea550d7d7b85ecb27ef992b618f3f\n",
            "Successfully built wget\n",
            "Installing collected packages: wget\n",
            "Successfully installed wget-3.2\n",
            "Model at GoogleNews-vectors-negative300.bin\n"
          ],
          "name": "stdout"
        }
      ]
    },
    {
      "cell_type": "code",
      "metadata": {
        "id": "DdZZW-izKHcY"
      },
      "source": [
        "word2vec_path = \"GoogleNews-vectors-negative300.bin\"\n",
        "word2vec = gensim.models.KeyedVectors.load_word2vec_format(word2vec_path, binary=True)"
      ],
      "execution_count": null,
      "outputs": []
    },
    {
      "cell_type": "code",
      "metadata": {
        "id": "LV3vekEhNcEZ"
      },
      "source": [
        "vector = word2vec \n",
        "def get_average_word2vec(tokens_list,generate_missing= False, k=300):\n",
        "    if len(tokens_list)<1:\n",
        "        return np.zeros(k)\n",
        "    if generate_missing:\n",
        "        vectorized = [vector[word] if word in vector else np.random.rand(k) for word in tokens_list]\n",
        "    else:\n",
        "        vectorized = [vector[word] if word in vector else np.zeros(k) for word in tokens_list]\n",
        "    length = len(vectorized)\n",
        "    summed = np.sum(vectorized, axis=0)\n",
        "    averaged = np.divide(summed, length)\n",
        "    return averaged\n",
        "\n",
        "def get_word2vec_embeddings(sentence):\n",
        "    # embeddings = clean_comments['tokens'].apply(lambda x: get_average_word2vec(x, vectors, \n",
        "                                                                                # generate_missing=generate_missing))\n",
        "    embeddings =get_average_word2vec(sentence.split())\n",
        "\n",
        "    return embeddings"
      ],
      "execution_count": null,
      "outputs": []
    },
    {
      "cell_type": "code",
      "metadata": {
        "id": "LO5boX_gPJf9"
      },
      "source": [
        "# training_embeddings = get_word2vec_embeddings(word2vec, final_df[\"content\"], generate_missing=True)"
      ],
      "execution_count": null,
      "outputs": []
    },
    {
      "cell_type": "code",
      "metadata": {
        "colab": {
          "base_uri": "https://localhost:8080/"
        },
        "id": "a2C08LhHPJvB",
        "outputId": "f93f47c1-2ff1-4809-fbfc-a6e010f565a9"
      },
      "source": [
        "final_df[\"embedding\"] = final_df[\"content\"].apply(get_word2vec_embeddings)\n",
        "# embedding = final_df[\"embedding\"]\n",
        "embedding = np.array(final_df[\"embedding\"].values.tolist())\n",
        "embedding.shape"
      ],
      "execution_count": null,
      "outputs": [
        {
          "output_type": "execute_result",
          "data": {
            "text/plain": [
              "(240, 300)"
            ]
          },
          "metadata": {
            "tags": []
          },
          "execution_count": 39
        }
      ]
    },
    {
      "cell_type": "code",
      "metadata": {
        "id": "6rgATWYGSe3a"
      },
      "source": [
        "# Smote"
      ],
      "execution_count": null,
      "outputs": []
    },
    {
      "cell_type": "code",
      "metadata": {
        "colab": {
          "base_uri": "https://localhost:8080/"
        },
        "id": "BZ1QVYYQSZvp",
        "outputId": "bb3717e4-514d-46ef-db47-99dd50860e7d"
      },
      "source": [
        "from imblearn.over_sampling import SMOTE\n",
        "oversample = SMOTE(sampling_strategy='minority', k_neighbors=4)\n",
        "X, Y = oversample.fit_resample(embedding, final_df[\"Label\"])"
      ],
      "execution_count": null,
      "outputs": [
        {
          "output_type": "stream",
          "text": [
            "/usr/local/lib/python3.7/dist-packages/sklearn/externals/six.py:31: FutureWarning: The module is deprecated in version 0.21 and will be removed in version 0.23 since we've dropped support for Python 2.7. Please rely on the official version of six (https://pypi.org/project/six/).\n",
            "  \"(https://pypi.org/project/six/).\", FutureWarning)\n",
            "/usr/local/lib/python3.7/dist-packages/sklearn/utils/deprecation.py:144: FutureWarning: The sklearn.neighbors.base module is  deprecated in version 0.22 and will be removed in version 0.24. The corresponding classes / functions should instead be imported from sklearn.neighbors. Anything that cannot be imported from sklearn.neighbors is now part of the private API.\n",
            "  warnings.warn(message, FutureWarning)\n",
            "/usr/local/lib/python3.7/dist-packages/sklearn/utils/deprecation.py:87: FutureWarning: Function safe_indexing is deprecated; safe_indexing is deprecated in version 0.22 and will be removed in version 0.24.\n",
            "  warnings.warn(msg, category=FutureWarning)\n"
          ],
          "name": "stderr"
        }
      ]
    },
    {
      "cell_type": "code",
      "metadata": {
        "id": "4xDGHGswSpbA"
      },
      "source": [
        "Encoder = LabelEncoder()\n",
        "Y = Encoder.fit_transform(Y)\n",
        "# Test_Y = Encoder.fit_transform(Test_Y)\n",
        "# print('Train label shape:', Train_Y.shape)\n",
        "# print('Test label shape: ', Test_Y.shape)"
      ],
      "execution_count": null,
      "outputs": []
    },
    {
      "cell_type": "code",
      "metadata": {
        "id": "QQvSuJKKS1-X"
      },
      "source": [
        "Train_X, Test_X, Train_Y, Test_Y = train_test_split(X, Y, test_size=0.2, random_state=101)"
      ],
      "execution_count": null,
      "outputs": []
    },
    {
      "cell_type": "code",
      "metadata": {
        "id": "qfsSc5BPSPTg"
      },
      "source": [
        "from keras.models import Sequential\n",
        "from keras import layers\n",
        "\n",
        "input_dim = Train_X.shape[1]  # Number of features\n",
        "\n",
        "model = Sequential()\n",
        "model.add(layers.Dense(10, input_dim=input_dim, activation='relu'))\n",
        "model.add(layers.Dense(6, activation='Softmax'))"
      ],
      "execution_count": null,
      "outputs": []
    },
    {
      "cell_type": "code",
      "metadata": {
        "colab": {
          "base_uri": "https://localhost:8080/"
        },
        "id": "wBmDqVEdTYGt",
        "outputId": "0896c876-78f6-4890-d810-d0b2473adb68"
      },
      "source": [
        "model.compile(loss='sparse_categorical_crossentropy', \n",
        "               optimizer='adam', \n",
        "               metrics=['accuracy'])\n",
        "model.summary()"
      ],
      "execution_count": null,
      "outputs": [
        {
          "output_type": "stream",
          "text": [
            "Model: \"sequential\"\n",
            "_________________________________________________________________\n",
            "Layer (type)                 Output Shape              Param #   \n",
            "=================================================================\n",
            "dense (Dense)                (None, 10)                3010      \n",
            "_________________________________________________________________\n",
            "dense_1 (Dense)              (None, 6)                 66        \n",
            "=================================================================\n",
            "Total params: 3,076\n",
            "Trainable params: 3,076\n",
            "Non-trainable params: 0\n",
            "_________________________________________________________________\n"
          ],
          "name": "stdout"
        }
      ]
    },
    {
      "cell_type": "code",
      "metadata": {
        "colab": {
          "base_uri": "https://localhost:8080/"
        },
        "id": "PtsRQfdkTdw5",
        "outputId": "4cee1dd6-02fc-446f-9925-ac8b99088ee4"
      },
      "source": [
        "history = model.fit(Train_X, Train_Y,\n",
        "                    epochs=400,\n",
        "                    verbose=True)"
      ],
      "execution_count": null,
      "outputs": [
        {
          "output_type": "stream",
          "text": [
            "Epoch 1/400\n",
            "8/8 [==============================] - 0s 3ms/step - loss: 1.7879 - accuracy: 0.1484\n",
            "Epoch 2/400\n",
            "8/8 [==============================] - 0s 2ms/step - loss: 1.7783 - accuracy: 0.2165\n",
            "Epoch 3/400\n",
            "8/8 [==============================] - 0s 2ms/step - loss: 1.7714 - accuracy: 0.2496\n",
            "Epoch 4/400\n",
            "8/8 [==============================] - 0s 2ms/step - loss: 1.7664 - accuracy: 0.2041\n",
            "Epoch 5/400\n",
            "8/8 [==============================] - 0s 2ms/step - loss: 1.7556 - accuracy: 0.2233\n",
            "Epoch 6/400\n",
            "8/8 [==============================] - 0s 2ms/step - loss: 1.7516 - accuracy: 0.2033\n",
            "Epoch 7/400\n",
            "8/8 [==============================] - 0s 2ms/step - loss: 1.7438 - accuracy: 0.2223\n",
            "Epoch 8/400\n",
            "8/8 [==============================] - 0s 2ms/step - loss: 1.7568 - accuracy: 0.1769\n",
            "Epoch 9/400\n",
            "8/8 [==============================] - 0s 2ms/step - loss: 1.7497 - accuracy: 0.1946\n",
            "Epoch 10/400\n",
            "8/8 [==============================] - 0s 2ms/step - loss: 1.7437 - accuracy: 0.2200\n",
            "Epoch 11/400\n",
            "8/8 [==============================] - 0s 2ms/step - loss: 1.7280 - accuracy: 0.1992\n",
            "Epoch 12/400\n",
            "8/8 [==============================] - 0s 3ms/step - loss: 1.7353 - accuracy: 0.2041\n",
            "Epoch 13/400\n",
            "8/8 [==============================] - 0s 2ms/step - loss: 1.7271 - accuracy: 0.1737\n",
            "Epoch 14/400\n",
            "8/8 [==============================] - 0s 2ms/step - loss: 1.7157 - accuracy: 0.2133\n",
            "Epoch 15/400\n",
            "8/8 [==============================] - 0s 3ms/step - loss: 1.7216 - accuracy: 0.2336\n",
            "Epoch 16/400\n",
            "8/8 [==============================] - 0s 2ms/step - loss: 1.7135 - accuracy: 0.2105\n",
            "Epoch 17/400\n",
            "8/8 [==============================] - 0s 2ms/step - loss: 1.7099 - accuracy: 0.2886\n",
            "Epoch 18/400\n",
            "8/8 [==============================] - 0s 2ms/step - loss: 1.7051 - accuracy: 0.2655\n",
            "Epoch 19/400\n",
            "8/8 [==============================] - 0s 2ms/step - loss: 1.7125 - accuracy: 0.3078\n",
            "Epoch 20/400\n",
            "8/8 [==============================] - 0s 3ms/step - loss: 1.7165 - accuracy: 0.3642\n",
            "Epoch 21/400\n",
            "8/8 [==============================] - 0s 3ms/step - loss: 1.7024 - accuracy: 0.3954\n",
            "Epoch 22/400\n",
            "8/8 [==============================] - 0s 2ms/step - loss: 1.7113 - accuracy: 0.3903\n",
            "Epoch 23/400\n",
            "8/8 [==============================] - 0s 2ms/step - loss: 1.7017 - accuracy: 0.3616\n",
            "Epoch 24/400\n",
            "8/8 [==============================] - 0s 3ms/step - loss: 1.6735 - accuracy: 0.3818\n",
            "Epoch 25/400\n",
            "8/8 [==============================] - 0s 2ms/step - loss: 1.6899 - accuracy: 0.3687\n",
            "Epoch 26/400\n",
            "8/8 [==============================] - 0s 3ms/step - loss: 1.6799 - accuracy: 0.4091\n",
            "Epoch 27/400\n",
            "8/8 [==============================] - 0s 3ms/step - loss: 1.6844 - accuracy: 0.4062\n",
            "Epoch 28/400\n",
            "8/8 [==============================] - 0s 2ms/step - loss: 1.6893 - accuracy: 0.4289\n",
            "Epoch 29/400\n",
            "8/8 [==============================] - 0s 2ms/step - loss: 1.6836 - accuracy: 0.3941\n",
            "Epoch 30/400\n",
            "8/8 [==============================] - 0s 2ms/step - loss: 1.6744 - accuracy: 0.4039\n",
            "Epoch 31/400\n",
            "8/8 [==============================] - 0s 2ms/step - loss: 1.6714 - accuracy: 0.3750\n",
            "Epoch 32/400\n",
            "8/8 [==============================] - 0s 3ms/step - loss: 1.6646 - accuracy: 0.4220\n",
            "Epoch 33/400\n",
            "8/8 [==============================] - 0s 2ms/step - loss: 1.6645 - accuracy: 0.4038\n",
            "Epoch 34/400\n",
            "8/8 [==============================] - 0s 2ms/step - loss: 1.6655 - accuracy: 0.4210\n",
            "Epoch 35/400\n",
            "8/8 [==============================] - 0s 2ms/step - loss: 1.6544 - accuracy: 0.3897\n",
            "Epoch 36/400\n",
            "8/8 [==============================] - 0s 2ms/step - loss: 1.6510 - accuracy: 0.4143\n",
            "Epoch 37/400\n",
            "8/8 [==============================] - 0s 2ms/step - loss: 1.6267 - accuracy: 0.4440\n",
            "Epoch 38/400\n",
            "8/8 [==============================] - 0s 2ms/step - loss: 1.6387 - accuracy: 0.4024\n",
            "Epoch 39/400\n",
            "8/8 [==============================] - 0s 2ms/step - loss: 1.6326 - accuracy: 0.3767\n",
            "Epoch 40/400\n",
            "8/8 [==============================] - 0s 2ms/step - loss: 1.6215 - accuracy: 0.4265\n",
            "Epoch 41/400\n",
            "8/8 [==============================] - 0s 2ms/step - loss: 1.6438 - accuracy: 0.4044\n",
            "Epoch 42/400\n",
            "8/8 [==============================] - 0s 2ms/step - loss: 1.6312 - accuracy: 0.4132\n",
            "Epoch 43/400\n",
            "8/8 [==============================] - 0s 2ms/step - loss: 1.5999 - accuracy: 0.4000\n",
            "Epoch 44/400\n",
            "8/8 [==============================] - 0s 2ms/step - loss: 1.6110 - accuracy: 0.4375\n",
            "Epoch 45/400\n",
            "8/8 [==============================] - 0s 3ms/step - loss: 1.5942 - accuracy: 0.4204\n",
            "Epoch 46/400\n",
            "8/8 [==============================] - 0s 3ms/step - loss: 1.6141 - accuracy: 0.3997\n",
            "Epoch 47/400\n",
            "8/8 [==============================] - 0s 2ms/step - loss: 1.6060 - accuracy: 0.4486\n",
            "Epoch 48/400\n",
            "8/8 [==============================] - 0s 3ms/step - loss: 1.5932 - accuracy: 0.4214\n",
            "Epoch 49/400\n",
            "8/8 [==============================] - 0s 2ms/step - loss: 1.5684 - accuracy: 0.4528\n",
            "Epoch 50/400\n",
            "8/8 [==============================] - 0s 2ms/step - loss: 1.5706 - accuracy: 0.4323\n",
            "Epoch 51/400\n",
            "8/8 [==============================] - 0s 3ms/step - loss: 1.5597 - accuracy: 0.4872\n",
            "Epoch 52/400\n",
            "8/8 [==============================] - 0s 3ms/step - loss: 1.5655 - accuracy: 0.4340\n",
            "Epoch 53/400\n",
            "8/8 [==============================] - 0s 3ms/step - loss: 1.5575 - accuracy: 0.4801\n",
            "Epoch 54/400\n",
            "8/8 [==============================] - 0s 2ms/step - loss: 1.5505 - accuracy: 0.4511\n",
            "Epoch 55/400\n",
            "8/8 [==============================] - 0s 2ms/step - loss: 1.5804 - accuracy: 0.4188\n",
            "Epoch 56/400\n",
            "8/8 [==============================] - 0s 2ms/step - loss: 1.5628 - accuracy: 0.4456\n",
            "Epoch 57/400\n",
            "8/8 [==============================] - 0s 3ms/step - loss: 1.5671 - accuracy: 0.4226\n",
            "Epoch 58/400\n",
            "8/8 [==============================] - 0s 2ms/step - loss: 1.5397 - accuracy: 0.4746\n",
            "Epoch 59/400\n",
            "8/8 [==============================] - 0s 2ms/step - loss: 1.5134 - accuracy: 0.4667\n",
            "Epoch 60/400\n",
            "8/8 [==============================] - 0s 2ms/step - loss: 1.5442 - accuracy: 0.4659\n",
            "Epoch 61/400\n",
            "8/8 [==============================] - 0s 2ms/step - loss: 1.5113 - accuracy: 0.5144\n",
            "Epoch 62/400\n",
            "8/8 [==============================] - 0s 2ms/step - loss: 1.5093 - accuracy: 0.4919\n",
            "Epoch 63/400\n",
            "8/8 [==============================] - 0s 2ms/step - loss: 1.5363 - accuracy: 0.4624\n",
            "Epoch 64/400\n",
            "8/8 [==============================] - 0s 2ms/step - loss: 1.5245 - accuracy: 0.4908\n",
            "Epoch 65/400\n",
            "8/8 [==============================] - 0s 3ms/step - loss: 1.5085 - accuracy: 0.5221\n",
            "Epoch 66/400\n",
            "8/8 [==============================] - 0s 2ms/step - loss: 1.5010 - accuracy: 0.4450\n",
            "Epoch 67/400\n",
            "8/8 [==============================] - 0s 2ms/step - loss: 1.4993 - accuracy: 0.4788\n",
            "Epoch 68/400\n",
            "8/8 [==============================] - 0s 3ms/step - loss: 1.4884 - accuracy: 0.4807\n",
            "Epoch 69/400\n",
            "8/8 [==============================] - 0s 3ms/step - loss: 1.5034 - accuracy: 0.4947\n",
            "Epoch 70/400\n",
            "8/8 [==============================] - 0s 2ms/step - loss: 1.4578 - accuracy: 0.5054\n",
            "Epoch 71/400\n",
            "8/8 [==============================] - 0s 2ms/step - loss: 1.4726 - accuracy: 0.4514\n",
            "Epoch 72/400\n",
            "8/8 [==============================] - 0s 2ms/step - loss: 1.4683 - accuracy: 0.4722\n",
            "Epoch 73/400\n",
            "8/8 [==============================] - 0s 2ms/step - loss: 1.4794 - accuracy: 0.4709\n",
            "Epoch 74/400\n",
            "8/8 [==============================] - 0s 2ms/step - loss: 1.4770 - accuracy: 0.5126\n",
            "Epoch 75/400\n",
            "8/8 [==============================] - 0s 2ms/step - loss: 1.4329 - accuracy: 0.5332\n",
            "Epoch 76/400\n",
            "8/8 [==============================] - 0s 2ms/step - loss: 1.4653 - accuracy: 0.5024\n",
            "Epoch 77/400\n",
            "8/8 [==============================] - 0s 2ms/step - loss: 1.4219 - accuracy: 0.5068\n",
            "Epoch 78/400\n",
            "8/8 [==============================] - 0s 2ms/step - loss: 1.4568 - accuracy: 0.5024\n",
            "Epoch 79/400\n",
            "8/8 [==============================] - 0s 2ms/step - loss: 1.4684 - accuracy: 0.4472\n",
            "Epoch 80/400\n",
            "8/8 [==============================] - 0s 2ms/step - loss: 1.4361 - accuracy: 0.5032\n",
            "Epoch 81/400\n",
            "8/8 [==============================] - 0s 2ms/step - loss: 1.4501 - accuracy: 0.4874\n",
            "Epoch 82/400\n",
            "8/8 [==============================] - 0s 3ms/step - loss: 1.3945 - accuracy: 0.5478\n",
            "Epoch 83/400\n",
            "8/8 [==============================] - 0s 2ms/step - loss: 1.4064 - accuracy: 0.5224\n",
            "Epoch 84/400\n",
            "8/8 [==============================] - 0s 3ms/step - loss: 1.4127 - accuracy: 0.5426\n",
            "Epoch 85/400\n",
            "8/8 [==============================] - 0s 3ms/step - loss: 1.3943 - accuracy: 0.5286\n",
            "Epoch 86/400\n",
            "8/8 [==============================] - 0s 2ms/step - loss: 1.3985 - accuracy: 0.5092\n",
            "Epoch 87/400\n",
            "8/8 [==============================] - 0s 2ms/step - loss: 1.4073 - accuracy: 0.5136\n",
            "Epoch 88/400\n",
            "8/8 [==============================] - 0s 2ms/step - loss: 1.3861 - accuracy: 0.5279\n",
            "Epoch 89/400\n",
            "8/8 [==============================] - 0s 2ms/step - loss: 1.3784 - accuracy: 0.5404\n",
            "Epoch 90/400\n",
            "8/8 [==============================] - 0s 2ms/step - loss: 1.4006 - accuracy: 0.4812\n",
            "Epoch 91/400\n",
            "8/8 [==============================] - 0s 2ms/step - loss: 1.3724 - accuracy: 0.5162\n",
            "Epoch 92/400\n",
            "8/8 [==============================] - 0s 2ms/step - loss: 1.3786 - accuracy: 0.5130\n",
            "Epoch 93/400\n",
            "8/8 [==============================] - 0s 2ms/step - loss: 1.3775 - accuracy: 0.5221\n",
            "Epoch 94/400\n",
            "8/8 [==============================] - 0s 3ms/step - loss: 1.3529 - accuracy: 0.5596\n",
            "Epoch 95/400\n",
            "8/8 [==============================] - 0s 2ms/step - loss: 1.3718 - accuracy: 0.5217\n",
            "Epoch 96/400\n",
            "8/8 [==============================] - 0s 4ms/step - loss: 1.3675 - accuracy: 0.5416\n",
            "Epoch 97/400\n",
            "8/8 [==============================] - 0s 2ms/step - loss: 1.3323 - accuracy: 0.5800\n",
            "Epoch 98/400\n",
            "8/8 [==============================] - 0s 3ms/step - loss: 1.3564 - accuracy: 0.5380\n",
            "Epoch 99/400\n",
            "8/8 [==============================] - 0s 2ms/step - loss: 1.3343 - accuracy: 0.5334\n",
            "Epoch 100/400\n",
            "8/8 [==============================] - 0s 2ms/step - loss: 1.3447 - accuracy: 0.5071\n",
            "Epoch 101/400\n",
            "8/8 [==============================] - 0s 2ms/step - loss: 1.3330 - accuracy: 0.5469\n",
            "Epoch 102/400\n",
            "8/8 [==============================] - 0s 2ms/step - loss: 1.3512 - accuracy: 0.5212\n",
            "Epoch 103/400\n",
            "8/8 [==============================] - 0s 2ms/step - loss: 1.3501 - accuracy: 0.5511\n",
            "Epoch 104/400\n",
            "8/8 [==============================] - 0s 3ms/step - loss: 1.3202 - accuracy: 0.5865\n",
            "Epoch 105/400\n",
            "8/8 [==============================] - 0s 2ms/step - loss: 1.3287 - accuracy: 0.5254\n",
            "Epoch 106/400\n",
            "8/8 [==============================] - 0s 3ms/step - loss: 1.2946 - accuracy: 0.5216\n",
            "Epoch 107/400\n",
            "8/8 [==============================] - 0s 2ms/step - loss: 1.3399 - accuracy: 0.5111\n",
            "Epoch 108/400\n",
            "8/8 [==============================] - 0s 2ms/step - loss: 1.2935 - accuracy: 0.5175\n",
            "Epoch 109/400\n",
            "8/8 [==============================] - 0s 2ms/step - loss: 1.3074 - accuracy: 0.5174\n",
            "Epoch 110/400\n",
            "8/8 [==============================] - 0s 2ms/step - loss: 1.3104 - accuracy: 0.5783\n",
            "Epoch 111/400\n",
            "8/8 [==============================] - 0s 2ms/step - loss: 1.2949 - accuracy: 0.5372\n",
            "Epoch 112/400\n",
            "8/8 [==============================] - 0s 2ms/step - loss: 1.3227 - accuracy: 0.5053\n",
            "Epoch 113/400\n",
            "8/8 [==============================] - 0s 2ms/step - loss: 1.2782 - accuracy: 0.5487\n",
            "Epoch 114/400\n",
            "8/8 [==============================] - 0s 2ms/step - loss: 1.2879 - accuracy: 0.5643\n",
            "Epoch 115/400\n",
            "8/8 [==============================] - 0s 2ms/step - loss: 1.2967 - accuracy: 0.5418\n",
            "Epoch 116/400\n",
            "8/8 [==============================] - 0s 2ms/step - loss: 1.2623 - accuracy: 0.5752\n",
            "Epoch 117/400\n",
            "8/8 [==============================] - 0s 2ms/step - loss: 1.2845 - accuracy: 0.5609\n",
            "Epoch 118/400\n",
            "8/8 [==============================] - 0s 2ms/step - loss: 1.2493 - accuracy: 0.6576\n",
            "Epoch 119/400\n",
            "8/8 [==============================] - 0s 2ms/step - loss: 1.2326 - accuracy: 0.6102\n",
            "Epoch 120/400\n",
            "8/8 [==============================] - 0s 2ms/step - loss: 1.2673 - accuracy: 0.5589\n",
            "Epoch 121/400\n",
            "8/8 [==============================] - 0s 3ms/step - loss: 1.2643 - accuracy: 0.6057\n",
            "Epoch 122/400\n",
            "8/8 [==============================] - 0s 2ms/step - loss: 1.2734 - accuracy: 0.5744\n",
            "Epoch 123/400\n",
            "8/8 [==============================] - 0s 2ms/step - loss: 1.2459 - accuracy: 0.5891\n",
            "Epoch 124/400\n",
            "8/8 [==============================] - 0s 2ms/step - loss: 1.2498 - accuracy: 0.5710\n",
            "Epoch 125/400\n",
            "8/8 [==============================] - 0s 2ms/step - loss: 1.2651 - accuracy: 0.5515\n",
            "Epoch 126/400\n",
            "8/8 [==============================] - 0s 2ms/step - loss: 1.2128 - accuracy: 0.5945\n",
            "Epoch 127/400\n",
            "8/8 [==============================] - 0s 2ms/step - loss: 1.2617 - accuracy: 0.5678\n",
            "Epoch 128/400\n",
            "8/8 [==============================] - 0s 2ms/step - loss: 1.2455 - accuracy: 0.5977\n",
            "Epoch 129/400\n",
            "8/8 [==============================] - 0s 2ms/step - loss: 1.1940 - accuracy: 0.6218\n",
            "Epoch 130/400\n",
            "8/8 [==============================] - 0s 2ms/step - loss: 1.2584 - accuracy: 0.5914\n",
            "Epoch 131/400\n",
            "8/8 [==============================] - 0s 3ms/step - loss: 1.2634 - accuracy: 0.5621\n",
            "Epoch 132/400\n",
            "8/8 [==============================] - 0s 3ms/step - loss: 1.2093 - accuracy: 0.5758\n",
            "Epoch 133/400\n",
            "8/8 [==============================] - 0s 3ms/step - loss: 1.1953 - accuracy: 0.6272\n",
            "Epoch 134/400\n",
            "8/8 [==============================] - 0s 2ms/step - loss: 1.2056 - accuracy: 0.6085\n",
            "Epoch 135/400\n",
            "8/8 [==============================] - 0s 2ms/step - loss: 1.2271 - accuracy: 0.5791\n",
            "Epoch 136/400\n",
            "8/8 [==============================] - 0s 2ms/step - loss: 1.1939 - accuracy: 0.6314\n",
            "Epoch 137/400\n",
            "8/8 [==============================] - 0s 2ms/step - loss: 1.2318 - accuracy: 0.5768\n",
            "Epoch 138/400\n",
            "8/8 [==============================] - 0s 2ms/step - loss: 1.1650 - accuracy: 0.6319\n",
            "Epoch 139/400\n",
            "8/8 [==============================] - 0s 3ms/step - loss: 1.1929 - accuracy: 0.6038\n",
            "Epoch 140/400\n",
            "8/8 [==============================] - 0s 2ms/step - loss: 1.1770 - accuracy: 0.6674\n",
            "Epoch 141/400\n",
            "8/8 [==============================] - 0s 2ms/step - loss: 1.1954 - accuracy: 0.5641\n",
            "Epoch 142/400\n",
            "8/8 [==============================] - 0s 3ms/step - loss: 1.1950 - accuracy: 0.5922\n",
            "Epoch 143/400\n",
            "8/8 [==============================] - 0s 2ms/step - loss: 1.1715 - accuracy: 0.6445\n",
            "Epoch 144/400\n",
            "8/8 [==============================] - 0s 3ms/step - loss: 1.1574 - accuracy: 0.6479\n",
            "Epoch 145/400\n",
            "8/8 [==============================] - 0s 2ms/step - loss: 1.1985 - accuracy: 0.6061\n",
            "Epoch 146/400\n",
            "8/8 [==============================] - 0s 3ms/step - loss: 1.1786 - accuracy: 0.6434\n",
            "Epoch 147/400\n",
            "8/8 [==============================] - 0s 2ms/step - loss: 1.1594 - accuracy: 0.6666\n",
            "Epoch 148/400\n",
            "8/8 [==============================] - 0s 2ms/step - loss: 1.1459 - accuracy: 0.6660\n",
            "Epoch 149/400\n",
            "8/8 [==============================] - 0s 2ms/step - loss: 1.1984 - accuracy: 0.6123\n",
            "Epoch 150/400\n",
            "8/8 [==============================] - 0s 3ms/step - loss: 1.1437 - accuracy: 0.6309\n",
            "Epoch 151/400\n",
            "8/8 [==============================] - 0s 2ms/step - loss: 1.1201 - accuracy: 0.6617\n",
            "Epoch 152/400\n",
            "8/8 [==============================] - 0s 2ms/step - loss: 1.1956 - accuracy: 0.6283\n",
            "Epoch 153/400\n",
            "8/8 [==============================] - 0s 2ms/step - loss: 1.1638 - accuracy: 0.6580\n",
            "Epoch 154/400\n",
            "8/8 [==============================] - 0s 2ms/step - loss: 1.1568 - accuracy: 0.6607\n",
            "Epoch 155/400\n",
            "8/8 [==============================] - 0s 3ms/step - loss: 1.1298 - accuracy: 0.6570\n",
            "Epoch 156/400\n",
            "8/8 [==============================] - 0s 3ms/step - loss: 1.1171 - accuracy: 0.6958\n",
            "Epoch 157/400\n",
            "8/8 [==============================] - 0s 3ms/step - loss: 1.1203 - accuracy: 0.6470\n",
            "Epoch 158/400\n",
            "8/8 [==============================] - 0s 2ms/step - loss: 1.1231 - accuracy: 0.6855\n",
            "Epoch 159/400\n",
            "8/8 [==============================] - 0s 2ms/step - loss: 1.1356 - accuracy: 0.6679\n",
            "Epoch 160/400\n",
            "8/8 [==============================] - 0s 2ms/step - loss: 1.1160 - accuracy: 0.6637\n",
            "Epoch 161/400\n",
            "8/8 [==============================] - 0s 4ms/step - loss: 1.1251 - accuracy: 0.6490\n",
            "Epoch 162/400\n",
            "8/8 [==============================] - 0s 2ms/step - loss: 1.1175 - accuracy: 0.6516\n",
            "Epoch 163/400\n",
            "8/8 [==============================] - 0s 3ms/step - loss: 1.0964 - accuracy: 0.6880\n",
            "Epoch 164/400\n",
            "8/8 [==============================] - 0s 2ms/step - loss: 1.1618 - accuracy: 0.6468\n",
            "Epoch 165/400\n",
            "8/8 [==============================] - 0s 2ms/step - loss: 1.1089 - accuracy: 0.6898\n",
            "Epoch 166/400\n",
            "8/8 [==============================] - 0s 3ms/step - loss: 1.1206 - accuracy: 0.6455\n",
            "Epoch 167/400\n",
            "8/8 [==============================] - 0s 2ms/step - loss: 1.1392 - accuracy: 0.6415\n",
            "Epoch 168/400\n",
            "8/8 [==============================] - 0s 2ms/step - loss: 1.1074 - accuracy: 0.6565\n",
            "Epoch 169/400\n",
            "8/8 [==============================] - 0s 2ms/step - loss: 1.0979 - accuracy: 0.6700\n",
            "Epoch 170/400\n",
            "8/8 [==============================] - 0s 3ms/step - loss: 1.0643 - accuracy: 0.6837\n",
            "Epoch 171/400\n",
            "8/8 [==============================] - 0s 3ms/step - loss: 1.1049 - accuracy: 0.6382\n",
            "Epoch 172/400\n",
            "8/8 [==============================] - 0s 2ms/step - loss: 1.1153 - accuracy: 0.6564\n",
            "Epoch 173/400\n",
            "8/8 [==============================] - 0s 2ms/step - loss: 1.0870 - accuracy: 0.6937\n",
            "Epoch 174/400\n",
            "8/8 [==============================] - 0s 2ms/step - loss: 1.0938 - accuracy: 0.6904\n",
            "Epoch 175/400\n",
            "8/8 [==============================] - 0s 2ms/step - loss: 1.0944 - accuracy: 0.6789\n",
            "Epoch 176/400\n",
            "8/8 [==============================] - 0s 3ms/step - loss: 1.0750 - accuracy: 0.7008\n",
            "Epoch 177/400\n",
            "8/8 [==============================] - 0s 2ms/step - loss: 1.0632 - accuracy: 0.6510\n",
            "Epoch 178/400\n",
            "8/8 [==============================] - 0s 2ms/step - loss: 1.0825 - accuracy: 0.6881\n",
            "Epoch 179/400\n",
            "8/8 [==============================] - 0s 2ms/step - loss: 1.0722 - accuracy: 0.6621\n",
            "Epoch 180/400\n",
            "8/8 [==============================] - 0s 2ms/step - loss: 1.0449 - accuracy: 0.7060\n",
            "Epoch 181/400\n",
            "8/8 [==============================] - 0s 2ms/step - loss: 1.0956 - accuracy: 0.6579\n",
            "Epoch 182/400\n",
            "8/8 [==============================] - 0s 2ms/step - loss: 1.0307 - accuracy: 0.7036\n",
            "Epoch 183/400\n",
            "8/8 [==============================] - 0s 2ms/step - loss: 1.0382 - accuracy: 0.6911\n",
            "Epoch 184/400\n",
            "8/8 [==============================] - 0s 2ms/step - loss: 0.9968 - accuracy: 0.7283\n",
            "Epoch 185/400\n",
            "8/8 [==============================] - 0s 2ms/step - loss: 1.0780 - accuracy: 0.6513\n",
            "Epoch 186/400\n",
            "8/8 [==============================] - 0s 2ms/step - loss: 1.0232 - accuracy: 0.7154\n",
            "Epoch 187/400\n",
            "8/8 [==============================] - 0s 2ms/step - loss: 0.9857 - accuracy: 0.7338\n",
            "Epoch 188/400\n",
            "8/8 [==============================] - 0s 2ms/step - loss: 1.0103 - accuracy: 0.6982\n",
            "Epoch 189/400\n",
            "8/8 [==============================] - 0s 2ms/step - loss: 1.0220 - accuracy: 0.7111\n",
            "Epoch 190/400\n",
            "8/8 [==============================] - 0s 3ms/step - loss: 1.0171 - accuracy: 0.6955\n",
            "Epoch 191/400\n",
            "8/8 [==============================] - 0s 3ms/step - loss: 1.0427 - accuracy: 0.6658\n",
            "Epoch 192/400\n",
            "8/8 [==============================] - 0s 2ms/step - loss: 1.0385 - accuracy: 0.6707\n",
            "Epoch 193/400\n",
            "8/8 [==============================] - 0s 2ms/step - loss: 1.0153 - accuracy: 0.7133\n",
            "Epoch 194/400\n",
            "8/8 [==============================] - 0s 2ms/step - loss: 1.0198 - accuracy: 0.6899\n",
            "Epoch 195/400\n",
            "8/8 [==============================] - 0s 3ms/step - loss: 1.0396 - accuracy: 0.6811\n",
            "Epoch 196/400\n",
            "8/8 [==============================] - 0s 3ms/step - loss: 1.0284 - accuracy: 0.7103\n",
            "Epoch 197/400\n",
            "8/8 [==============================] - 0s 2ms/step - loss: 1.0096 - accuracy: 0.6988\n",
            "Epoch 198/400\n",
            "8/8 [==============================] - 0s 2ms/step - loss: 1.0202 - accuracy: 0.6698\n",
            "Epoch 199/400\n",
            "8/8 [==============================] - 0s 2ms/step - loss: 1.0285 - accuracy: 0.6647\n",
            "Epoch 200/400\n",
            "8/8 [==============================] - 0s 3ms/step - loss: 1.0035 - accuracy: 0.6819\n",
            "Epoch 201/400\n",
            "8/8 [==============================] - 0s 3ms/step - loss: 1.0270 - accuracy: 0.6943\n",
            "Epoch 202/400\n",
            "8/8 [==============================] - 0s 2ms/step - loss: 1.0123 - accuracy: 0.6783\n",
            "Epoch 203/400\n",
            "8/8 [==============================] - 0s 2ms/step - loss: 0.9805 - accuracy: 0.7287\n",
            "Epoch 204/400\n",
            "8/8 [==============================] - 0s 2ms/step - loss: 1.0113 - accuracy: 0.6920\n",
            "Epoch 205/400\n",
            "8/8 [==============================] - 0s 3ms/step - loss: 0.9530 - accuracy: 0.7175\n",
            "Epoch 206/400\n",
            "8/8 [==============================] - 0s 2ms/step - loss: 1.0154 - accuracy: 0.7025\n",
            "Epoch 207/400\n",
            "8/8 [==============================] - 0s 2ms/step - loss: 1.0360 - accuracy: 0.6962\n",
            "Epoch 208/400\n",
            "8/8 [==============================] - 0s 3ms/step - loss: 1.0084 - accuracy: 0.7113\n",
            "Epoch 209/400\n",
            "8/8 [==============================] - 0s 2ms/step - loss: 0.9759 - accuracy: 0.6966\n",
            "Epoch 210/400\n",
            "8/8 [==============================] - 0s 2ms/step - loss: 1.0033 - accuracy: 0.6953\n",
            "Epoch 211/400\n",
            "8/8 [==============================] - 0s 3ms/step - loss: 0.9939 - accuracy: 0.7028\n",
            "Epoch 212/400\n",
            "8/8 [==============================] - 0s 3ms/step - loss: 1.0026 - accuracy: 0.6898\n",
            "Epoch 213/400\n",
            "8/8 [==============================] - 0s 3ms/step - loss: 0.9324 - accuracy: 0.7121\n",
            "Epoch 214/400\n",
            "8/8 [==============================] - 0s 3ms/step - loss: 0.9655 - accuracy: 0.7148\n",
            "Epoch 215/400\n",
            "8/8 [==============================] - 0s 3ms/step - loss: 0.9728 - accuracy: 0.7221\n",
            "Epoch 216/400\n",
            "8/8 [==============================] - 0s 2ms/step - loss: 0.9580 - accuracy: 0.7252\n",
            "Epoch 217/400\n",
            "8/8 [==============================] - 0s 3ms/step - loss: 0.9655 - accuracy: 0.7340\n",
            "Epoch 218/400\n",
            "8/8 [==============================] - 0s 3ms/step - loss: 0.9798 - accuracy: 0.7195\n",
            "Epoch 219/400\n",
            "8/8 [==============================] - 0s 3ms/step - loss: 0.9200 - accuracy: 0.7511\n",
            "Epoch 220/400\n",
            "8/8 [==============================] - 0s 2ms/step - loss: 0.9169 - accuracy: 0.7426\n",
            "Epoch 221/400\n",
            "8/8 [==============================] - 0s 2ms/step - loss: 0.9410 - accuracy: 0.7290\n",
            "Epoch 222/400\n",
            "8/8 [==============================] - 0s 2ms/step - loss: 0.9471 - accuracy: 0.7382\n",
            "Epoch 223/400\n",
            "8/8 [==============================] - 0s 4ms/step - loss: 0.9838 - accuracy: 0.6919\n",
            "Epoch 224/400\n",
            "8/8 [==============================] - 0s 2ms/step - loss: 0.9101 - accuracy: 0.7572\n",
            "Epoch 225/400\n",
            "8/8 [==============================] - 0s 3ms/step - loss: 0.9614 - accuracy: 0.6952\n",
            "Epoch 226/400\n",
            "8/8 [==============================] - 0s 2ms/step - loss: 0.9372 - accuracy: 0.7247\n",
            "Epoch 227/400\n",
            "8/8 [==============================] - 0s 3ms/step - loss: 0.9732 - accuracy: 0.6992\n",
            "Epoch 228/400\n",
            "8/8 [==============================] - 0s 2ms/step - loss: 0.9348 - accuracy: 0.6870\n",
            "Epoch 229/400\n",
            "8/8 [==============================] - 0s 2ms/step - loss: 0.9259 - accuracy: 0.7119\n",
            "Epoch 230/400\n",
            "8/8 [==============================] - 0s 2ms/step - loss: 0.9199 - accuracy: 0.7314\n",
            "Epoch 231/400\n",
            "8/8 [==============================] - 0s 3ms/step - loss: 0.9089 - accuracy: 0.7455\n",
            "Epoch 232/400\n",
            "8/8 [==============================] - 0s 3ms/step - loss: 0.9369 - accuracy: 0.7453\n",
            "Epoch 233/400\n",
            "8/8 [==============================] - 0s 2ms/step - loss: 0.9127 - accuracy: 0.7260\n",
            "Epoch 234/400\n",
            "8/8 [==============================] - 0s 3ms/step - loss: 0.9013 - accuracy: 0.7218\n",
            "Epoch 235/400\n",
            "8/8 [==============================] - 0s 3ms/step - loss: 0.8838 - accuracy: 0.7691\n",
            "Epoch 236/400\n",
            "8/8 [==============================] - 0s 2ms/step - loss: 0.9131 - accuracy: 0.7551\n",
            "Epoch 237/400\n",
            "8/8 [==============================] - 0s 3ms/step - loss: 0.9020 - accuracy: 0.7465\n",
            "Epoch 238/400\n",
            "8/8 [==============================] - 0s 2ms/step - loss: 0.9282 - accuracy: 0.7345\n",
            "Epoch 239/400\n",
            "8/8 [==============================] - 0s 2ms/step - loss: 0.8811 - accuracy: 0.7531\n",
            "Epoch 240/400\n",
            "8/8 [==============================] - 0s 2ms/step - loss: 0.9317 - accuracy: 0.7095\n",
            "Epoch 241/400\n",
            "8/8 [==============================] - 0s 2ms/step - loss: 0.8775 - accuracy: 0.7484\n",
            "Epoch 242/400\n",
            "8/8 [==============================] - 0s 2ms/step - loss: 0.9027 - accuracy: 0.7566\n",
            "Epoch 243/400\n",
            "8/8 [==============================] - 0s 2ms/step - loss: 0.8850 - accuracy: 0.7597\n",
            "Epoch 244/400\n",
            "8/8 [==============================] - 0s 3ms/step - loss: 0.8968 - accuracy: 0.7650\n",
            "Epoch 245/400\n",
            "8/8 [==============================] - 0s 2ms/step - loss: 0.8858 - accuracy: 0.7455\n",
            "Epoch 246/400\n",
            "8/8 [==============================] - 0s 3ms/step - loss: 0.8616 - accuracy: 0.7655\n",
            "Epoch 247/400\n",
            "8/8 [==============================] - 0s 3ms/step - loss: 0.9039 - accuracy: 0.7458\n",
            "Epoch 248/400\n",
            "8/8 [==============================] - 0s 2ms/step - loss: 0.9055 - accuracy: 0.7300\n",
            "Epoch 249/400\n",
            "8/8 [==============================] - 0s 2ms/step - loss: 0.8644 - accuracy: 0.7581\n",
            "Epoch 250/400\n",
            "8/8 [==============================] - 0s 2ms/step - loss: 0.8981 - accuracy: 0.7249\n",
            "Epoch 251/400\n",
            "8/8 [==============================] - 0s 2ms/step - loss: 0.8359 - accuracy: 0.7745\n",
            "Epoch 252/400\n",
            "8/8 [==============================] - 0s 3ms/step - loss: 0.8834 - accuracy: 0.7386\n",
            "Epoch 253/400\n",
            "8/8 [==============================] - 0s 3ms/step - loss: 0.8474 - accuracy: 0.7857\n",
            "Epoch 254/400\n",
            "8/8 [==============================] - 0s 2ms/step - loss: 0.8386 - accuracy: 0.7516\n",
            "Epoch 255/400\n",
            "8/8 [==============================] - 0s 3ms/step - loss: 0.8611 - accuracy: 0.7792\n",
            "Epoch 256/400\n",
            "8/8 [==============================] - 0s 2ms/step - loss: 0.8826 - accuracy: 0.7502\n",
            "Epoch 257/400\n",
            "8/8 [==============================] - 0s 3ms/step - loss: 0.8543 - accuracy: 0.7891\n",
            "Epoch 258/400\n",
            "8/8 [==============================] - 0s 3ms/step - loss: 0.9079 - accuracy: 0.7509\n",
            "Epoch 259/400\n",
            "8/8 [==============================] - 0s 2ms/step - loss: 0.8583 - accuracy: 0.7674\n",
            "Epoch 260/400\n",
            "8/8 [==============================] - 0s 2ms/step - loss: 0.8218 - accuracy: 0.7855\n",
            "Epoch 261/400\n",
            "8/8 [==============================] - 0s 3ms/step - loss: 0.8602 - accuracy: 0.7590\n",
            "Epoch 262/400\n",
            "8/8 [==============================] - 0s 2ms/step - loss: 0.8471 - accuracy: 0.7627\n",
            "Epoch 263/400\n",
            "8/8 [==============================] - 0s 2ms/step - loss: 0.8687 - accuracy: 0.7585\n",
            "Epoch 264/400\n",
            "8/8 [==============================] - 0s 2ms/step - loss: 0.8438 - accuracy: 0.7771\n",
            "Epoch 265/400\n",
            "8/8 [==============================] - 0s 3ms/step - loss: 0.8351 - accuracy: 0.7509\n",
            "Epoch 266/400\n",
            "8/8 [==============================] - 0s 2ms/step - loss: 0.8178 - accuracy: 0.7921\n",
            "Epoch 267/400\n",
            "8/8 [==============================] - 0s 3ms/step - loss: 0.8153 - accuracy: 0.7891\n",
            "Epoch 268/400\n",
            "8/8 [==============================] - 0s 2ms/step - loss: 0.7799 - accuracy: 0.8162\n",
            "Epoch 269/400\n",
            "8/8 [==============================] - 0s 2ms/step - loss: 0.8280 - accuracy: 0.7749\n",
            "Epoch 270/400\n",
            "8/8 [==============================] - 0s 2ms/step - loss: 0.8463 - accuracy: 0.7658\n",
            "Epoch 271/400\n",
            "8/8 [==============================] - 0s 2ms/step - loss: 0.8491 - accuracy: 0.7731\n",
            "Epoch 272/400\n",
            "8/8 [==============================] - 0s 2ms/step - loss: 0.8056 - accuracy: 0.7960\n",
            "Epoch 273/400\n",
            "8/8 [==============================] - 0s 3ms/step - loss: 0.8135 - accuracy: 0.7834\n",
            "Epoch 274/400\n",
            "8/8 [==============================] - 0s 3ms/step - loss: 0.8165 - accuracy: 0.8034\n",
            "Epoch 275/400\n",
            "8/8 [==============================] - 0s 2ms/step - loss: 0.7864 - accuracy: 0.8019\n",
            "Epoch 276/400\n",
            "8/8 [==============================] - 0s 3ms/step - loss: 0.8219 - accuracy: 0.7849\n",
            "Epoch 277/400\n",
            "8/8 [==============================] - 0s 2ms/step - loss: 0.8025 - accuracy: 0.7918\n",
            "Epoch 278/400\n",
            "8/8 [==============================] - 0s 3ms/step - loss: 0.7749 - accuracy: 0.7945\n",
            "Epoch 279/400\n",
            "8/8 [==============================] - 0s 2ms/step - loss: 0.8043 - accuracy: 0.7884\n",
            "Epoch 280/400\n",
            "8/8 [==============================] - 0s 2ms/step - loss: 0.8094 - accuracy: 0.7575\n",
            "Epoch 281/400\n",
            "8/8 [==============================] - 0s 3ms/step - loss: 0.7731 - accuracy: 0.8043\n",
            "Epoch 282/400\n",
            "8/8 [==============================] - 0s 2ms/step - loss: 0.7828 - accuracy: 0.7997\n",
            "Epoch 283/400\n",
            "8/8 [==============================] - 0s 2ms/step - loss: 0.7329 - accuracy: 0.8153\n",
            "Epoch 284/400\n",
            "8/8 [==============================] - 0s 2ms/step - loss: 0.7548 - accuracy: 0.8101\n",
            "Epoch 285/400\n",
            "8/8 [==============================] - 0s 2ms/step - loss: 0.7843 - accuracy: 0.7989\n",
            "Epoch 286/400\n",
            "8/8 [==============================] - 0s 2ms/step - loss: 0.7583 - accuracy: 0.8118\n",
            "Epoch 287/400\n",
            "8/8 [==============================] - 0s 3ms/step - loss: 0.8301 - accuracy: 0.7453\n",
            "Epoch 288/400\n",
            "8/8 [==============================] - 0s 2ms/step - loss: 0.7688 - accuracy: 0.7970\n",
            "Epoch 289/400\n",
            "8/8 [==============================] - 0s 2ms/step - loss: 0.7874 - accuracy: 0.7802\n",
            "Epoch 290/400\n",
            "8/8 [==============================] - 0s 3ms/step - loss: 0.7584 - accuracy: 0.7901\n",
            "Epoch 291/400\n",
            "8/8 [==============================] - 0s 4ms/step - loss: 0.7637 - accuracy: 0.7964\n",
            "Epoch 292/400\n",
            "8/8 [==============================] - 0s 2ms/step - loss: 0.7326 - accuracy: 0.8172\n",
            "Epoch 293/400\n",
            "8/8 [==============================] - 0s 2ms/step - loss: 0.7497 - accuracy: 0.8031\n",
            "Epoch 294/400\n",
            "8/8 [==============================] - 0s 3ms/step - loss: 0.7689 - accuracy: 0.8032\n",
            "Epoch 295/400\n",
            "8/8 [==============================] - 0s 2ms/step - loss: 0.7333 - accuracy: 0.8149\n",
            "Epoch 296/400\n",
            "8/8 [==============================] - 0s 2ms/step - loss: 0.7322 - accuracy: 0.8047\n",
            "Epoch 297/400\n",
            "8/8 [==============================] - 0s 3ms/step - loss: 0.7426 - accuracy: 0.7886\n",
            "Epoch 298/400\n",
            "8/8 [==============================] - 0s 3ms/step - loss: 0.7298 - accuracy: 0.7889\n",
            "Epoch 299/400\n",
            "8/8 [==============================] - 0s 2ms/step - loss: 0.7313 - accuracy: 0.8119\n",
            "Epoch 300/400\n",
            "8/8 [==============================] - 0s 3ms/step - loss: 0.7396 - accuracy: 0.8169\n",
            "Epoch 301/400\n",
            "8/8 [==============================] - 0s 4ms/step - loss: 0.7235 - accuracy: 0.8167\n",
            "Epoch 302/400\n",
            "8/8 [==============================] - 0s 3ms/step - loss: 0.7684 - accuracy: 0.7843\n",
            "Epoch 303/400\n",
            "8/8 [==============================] - 0s 3ms/step - loss: 0.7359 - accuracy: 0.8195\n",
            "Epoch 304/400\n",
            "8/8 [==============================] - 0s 2ms/step - loss: 0.7525 - accuracy: 0.8039\n",
            "Epoch 305/400\n",
            "8/8 [==============================] - 0s 2ms/step - loss: 0.7248 - accuracy: 0.8135\n",
            "Epoch 306/400\n",
            "8/8 [==============================] - 0s 3ms/step - loss: 0.7312 - accuracy: 0.8001\n",
            "Epoch 307/400\n",
            "8/8 [==============================] - 0s 2ms/step - loss: 0.7423 - accuracy: 0.7975\n",
            "Epoch 308/400\n",
            "8/8 [==============================] - 0s 2ms/step - loss: 0.7013 - accuracy: 0.8142\n",
            "Epoch 309/400\n",
            "8/8 [==============================] - 0s 3ms/step - loss: 0.7559 - accuracy: 0.7948\n",
            "Epoch 310/400\n",
            "8/8 [==============================] - 0s 2ms/step - loss: 0.6857 - accuracy: 0.8671\n",
            "Epoch 311/400\n",
            "8/8 [==============================] - 0s 3ms/step - loss: 0.7016 - accuracy: 0.8472\n",
            "Epoch 312/400\n",
            "8/8 [==============================] - 0s 3ms/step - loss: 0.7008 - accuracy: 0.8449\n",
            "Epoch 313/400\n",
            "8/8 [==============================] - 0s 2ms/step - loss: 0.6687 - accuracy: 0.8547\n",
            "Epoch 314/400\n",
            "8/8 [==============================] - 0s 3ms/step - loss: 0.6840 - accuracy: 0.8227\n",
            "Epoch 315/400\n",
            "8/8 [==============================] - 0s 2ms/step - loss: 0.7110 - accuracy: 0.8262\n",
            "Epoch 316/400\n",
            "8/8 [==============================] - 0s 3ms/step - loss: 0.6957 - accuracy: 0.8311\n",
            "Epoch 317/400\n",
            "8/8 [==============================] - 0s 2ms/step - loss: 0.7125 - accuracy: 0.8013\n",
            "Epoch 318/400\n",
            "8/8 [==============================] - 0s 3ms/step - loss: 0.7229 - accuracy: 0.8229\n",
            "Epoch 319/400\n",
            "8/8 [==============================] - 0s 3ms/step - loss: 0.7100 - accuracy: 0.8084\n",
            "Epoch 320/400\n",
            "8/8 [==============================] - 0s 3ms/step - loss: 0.6869 - accuracy: 0.8428\n",
            "Epoch 321/400\n",
            "8/8 [==============================] - 0s 3ms/step - loss: 0.6992 - accuracy: 0.8000\n",
            "Epoch 322/400\n",
            "8/8 [==============================] - 0s 2ms/step - loss: 0.6666 - accuracy: 0.8515\n",
            "Epoch 323/400\n",
            "8/8 [==============================] - 0s 3ms/step - loss: 0.6917 - accuracy: 0.8274\n",
            "Epoch 324/400\n",
            "8/8 [==============================] - 0s 2ms/step - loss: 0.7029 - accuracy: 0.8289\n",
            "Epoch 325/400\n",
            "8/8 [==============================] - 0s 3ms/step - loss: 0.7028 - accuracy: 0.8053\n",
            "Epoch 326/400\n",
            "8/8 [==============================] - 0s 2ms/step - loss: 0.6783 - accuracy: 0.8426\n",
            "Epoch 327/400\n",
            "8/8 [==============================] - 0s 2ms/step - loss: 0.6504 - accuracy: 0.8570\n",
            "Epoch 328/400\n",
            "8/8 [==============================] - 0s 3ms/step - loss: 0.6878 - accuracy: 0.8279\n",
            "Epoch 329/400\n",
            "8/8 [==============================] - 0s 2ms/step - loss: 0.6966 - accuracy: 0.8288\n",
            "Epoch 330/400\n",
            "8/8 [==============================] - 0s 3ms/step - loss: 0.6725 - accuracy: 0.8276\n",
            "Epoch 331/400\n",
            "8/8 [==============================] - 0s 3ms/step - loss: 0.7105 - accuracy: 0.8111\n",
            "Epoch 332/400\n",
            "8/8 [==============================] - 0s 3ms/step - loss: 0.6728 - accuracy: 0.8325\n",
            "Epoch 333/400\n",
            "8/8 [==============================] - 0s 3ms/step - loss: 0.6538 - accuracy: 0.8293\n",
            "Epoch 334/400\n",
            "8/8 [==============================] - 0s 2ms/step - loss: 0.6779 - accuracy: 0.8422\n",
            "Epoch 335/400\n",
            "8/8 [==============================] - 0s 3ms/step - loss: 0.6617 - accuracy: 0.8275\n",
            "Epoch 336/400\n",
            "8/8 [==============================] - 0s 3ms/step - loss: 0.6776 - accuracy: 0.8115\n",
            "Epoch 337/400\n",
            "8/8 [==============================] - 0s 2ms/step - loss: 0.6430 - accuracy: 0.8321\n",
            "Epoch 338/400\n",
            "8/8 [==============================] - 0s 3ms/step - loss: 0.6748 - accuracy: 0.8128\n",
            "Epoch 339/400\n",
            "8/8 [==============================] - 0s 3ms/step - loss: 0.6299 - accuracy: 0.8707\n",
            "Epoch 340/400\n",
            "8/8 [==============================] - 0s 2ms/step - loss: 0.6343 - accuracy: 0.8488\n",
            "Epoch 341/400\n",
            "8/8 [==============================] - 0s 3ms/step - loss: 0.6262 - accuracy: 0.8644\n",
            "Epoch 342/400\n",
            "8/8 [==============================] - 0s 3ms/step - loss: 0.6233 - accuracy: 0.8887\n",
            "Epoch 343/400\n",
            "8/8 [==============================] - 0s 2ms/step - loss: 0.6268 - accuracy: 0.8807\n",
            "Epoch 344/400\n",
            "8/8 [==============================] - 0s 3ms/step - loss: 0.6318 - accuracy: 0.8508\n",
            "Epoch 345/400\n",
            "8/8 [==============================] - 0s 3ms/step - loss: 0.6236 - accuracy: 0.8721\n",
            "Epoch 346/400\n",
            "8/8 [==============================] - 0s 2ms/step - loss: 0.6131 - accuracy: 0.8610\n",
            "Epoch 347/400\n",
            "8/8 [==============================] - 0s 3ms/step - loss: 0.6366 - accuracy: 0.8361\n",
            "Epoch 348/400\n",
            "8/8 [==============================] - 0s 3ms/step - loss: 0.6137 - accuracy: 0.8678\n",
            "Epoch 349/400\n",
            "8/8 [==============================] - 0s 3ms/step - loss: 0.6512 - accuracy: 0.8345\n",
            "Epoch 350/400\n",
            "8/8 [==============================] - 0s 3ms/step - loss: 0.5730 - accuracy: 0.8732\n",
            "Epoch 351/400\n",
            "8/8 [==============================] - 0s 3ms/step - loss: 0.6353 - accuracy: 0.8486\n",
            "Epoch 352/400\n",
            "8/8 [==============================] - 0s 3ms/step - loss: 0.6596 - accuracy: 0.8231\n",
            "Epoch 353/400\n",
            "8/8 [==============================] - 0s 3ms/step - loss: 0.5798 - accuracy: 0.8850\n",
            "Epoch 354/400\n",
            "8/8 [==============================] - 0s 2ms/step - loss: 0.6267 - accuracy: 0.8516\n",
            "Epoch 355/400\n",
            "8/8 [==============================] - 0s 2ms/step - loss: 0.5811 - accuracy: 0.8666\n",
            "Epoch 356/400\n",
            "8/8 [==============================] - 0s 2ms/step - loss: 0.6042 - accuracy: 0.8475\n",
            "Epoch 357/400\n",
            "8/8 [==============================] - 0s 2ms/step - loss: 0.5876 - accuracy: 0.8755\n",
            "Epoch 358/400\n",
            "8/8 [==============================] - 0s 3ms/step - loss: 0.5922 - accuracy: 0.8534\n",
            "Epoch 359/400\n",
            "8/8 [==============================] - 0s 3ms/step - loss: 0.6427 - accuracy: 0.8252\n",
            "Epoch 360/400\n",
            "8/8 [==============================] - 0s 2ms/step - loss: 0.6035 - accuracy: 0.8556\n",
            "Epoch 361/400\n",
            "8/8 [==============================] - 0s 2ms/step - loss: 0.5877 - accuracy: 0.8627\n",
            "Epoch 362/400\n",
            "8/8 [==============================] - 0s 2ms/step - loss: 0.5871 - accuracy: 0.8529\n",
            "Epoch 363/400\n",
            "8/8 [==============================] - 0s 2ms/step - loss: 0.5561 - accuracy: 0.8775\n",
            "Epoch 364/400\n",
            "8/8 [==============================] - 0s 2ms/step - loss: 0.5993 - accuracy: 0.8443\n",
            "Epoch 365/400\n",
            "8/8 [==============================] - 0s 3ms/step - loss: 0.5655 - accuracy: 0.8593\n",
            "Epoch 366/400\n",
            "8/8 [==============================] - 0s 3ms/step - loss: 0.5802 - accuracy: 0.8699\n",
            "Epoch 367/400\n",
            "8/8 [==============================] - 0s 4ms/step - loss: 0.5926 - accuracy: 0.8634\n",
            "Epoch 368/400\n",
            "8/8 [==============================] - 0s 2ms/step - loss: 0.5651 - accuracy: 0.8680\n",
            "Epoch 369/400\n",
            "8/8 [==============================] - 0s 2ms/step - loss: 0.5644 - accuracy: 0.8719\n",
            "Epoch 370/400\n",
            "8/8 [==============================] - 0s 3ms/step - loss: 0.5624 - accuracy: 0.8554\n",
            "Epoch 371/400\n",
            "8/8 [==============================] - 0s 3ms/step - loss: 0.5321 - accuracy: 0.8662\n",
            "Epoch 372/400\n",
            "8/8 [==============================] - 0s 2ms/step - loss: 0.5855 - accuracy: 0.8391\n",
            "Epoch 373/400\n",
            "8/8 [==============================] - 0s 3ms/step - loss: 0.5554 - accuracy: 0.8612\n",
            "Epoch 374/400\n",
            "8/8 [==============================] - 0s 3ms/step - loss: 0.5581 - accuracy: 0.8806\n",
            "Epoch 375/400\n",
            "8/8 [==============================] - 0s 3ms/step - loss: 0.5687 - accuracy: 0.8475\n",
            "Epoch 376/400\n",
            "8/8 [==============================] - 0s 2ms/step - loss: 0.5554 - accuracy: 0.8648\n",
            "Epoch 377/400\n",
            "8/8 [==============================] - 0s 3ms/step - loss: 0.5717 - accuracy: 0.8309\n",
            "Epoch 378/400\n",
            "8/8 [==============================] - 0s 2ms/step - loss: 0.5357 - accuracy: 0.8524\n",
            "Epoch 379/400\n",
            "8/8 [==============================] - 0s 2ms/step - loss: 0.5593 - accuracy: 0.8625\n",
            "Epoch 380/400\n",
            "8/8 [==============================] - 0s 3ms/step - loss: 0.5031 - accuracy: 0.9059\n",
            "Epoch 381/400\n",
            "8/8 [==============================] - 0s 2ms/step - loss: 0.5570 - accuracy: 0.8653\n",
            "Epoch 382/400\n",
            "8/8 [==============================] - 0s 3ms/step - loss: 0.5402 - accuracy: 0.8777\n",
            "Epoch 383/400\n",
            "8/8 [==============================] - 0s 2ms/step - loss: 0.5835 - accuracy: 0.8403\n",
            "Epoch 384/400\n",
            "8/8 [==============================] - 0s 3ms/step - loss: 0.5479 - accuracy: 0.8497\n",
            "Epoch 385/400\n",
            "8/8 [==============================] - 0s 3ms/step - loss: 0.5563 - accuracy: 0.8458\n",
            "Epoch 386/400\n",
            "8/8 [==============================] - 0s 3ms/step - loss: 0.5119 - accuracy: 0.8646\n",
            "Epoch 387/400\n",
            "8/8 [==============================] - 0s 3ms/step - loss: 0.5831 - accuracy: 0.8478\n",
            "Epoch 388/400\n",
            "8/8 [==============================] - 0s 3ms/step - loss: 0.5344 - accuracy: 0.8865\n",
            "Epoch 389/400\n",
            "8/8 [==============================] - 0s 3ms/step - loss: 0.5138 - accuracy: 0.8756\n",
            "Epoch 390/400\n",
            "8/8 [==============================] - 0s 2ms/step - loss: 0.4991 - accuracy: 0.8848\n",
            "Epoch 391/400\n",
            "8/8 [==============================] - 0s 2ms/step - loss: 0.4816 - accuracy: 0.8972\n",
            "Epoch 392/400\n",
            "8/8 [==============================] - 0s 3ms/step - loss: 0.5077 - accuracy: 0.8870\n",
            "Epoch 393/400\n",
            "8/8 [==============================] - 0s 3ms/step - loss: 0.4755 - accuracy: 0.8888\n",
            "Epoch 394/400\n",
            "8/8 [==============================] - 0s 2ms/step - loss: 0.4954 - accuracy: 0.8899\n",
            "Epoch 395/400\n",
            "8/8 [==============================] - 0s 3ms/step - loss: 0.4957 - accuracy: 0.8869\n",
            "Epoch 396/400\n",
            "8/8 [==============================] - 0s 3ms/step - loss: 0.5328 - accuracy: 0.8697\n",
            "Epoch 397/400\n",
            "8/8 [==============================] - 0s 3ms/step - loss: 0.4781 - accuracy: 0.8859\n",
            "Epoch 398/400\n",
            "8/8 [==============================] - 0s 3ms/step - loss: 0.5167 - accuracy: 0.8775\n",
            "Epoch 399/400\n",
            "8/8 [==============================] - 0s 3ms/step - loss: 0.5273 - accuracy: 0.8677\n",
            "Epoch 400/400\n",
            "8/8 [==============================] - 0s 3ms/step - loss: 0.4719 - accuracy: 0.9120\n"
          ],
          "name": "stdout"
        }
      ]
    },
    {
      "cell_type": "code",
      "metadata": {
        "id": "Od5t2WWuUBlg"
      },
      "source": [
        "# tf.keras.backend.clear_session()"
      ],
      "execution_count": null,
      "outputs": []
    },
    {
      "cell_type": "code",
      "metadata": {
        "colab": {
          "base_uri": "https://localhost:8080/"
        },
        "id": "47d_n_xjUjEM",
        "outputId": "3c677ee4-55b3-4179-e3c5-7060a09b5f8e"
      },
      "source": [
        "loss, accuracy = model.evaluate(Train_X, Train_Y, verbose=False)\n",
        "print(\"Training Accuracy: {:.4f}\".format(accuracy))\n",
        "loss, accuracy = model.evaluate(Test_X, Test_Y, verbose=False)\n",
        "print(\"Testing Accuracy:  {:.4f}\".format(accuracy))"
      ],
      "execution_count": null,
      "outputs": [
        {
          "output_type": "stream",
          "text": [
            "Training Accuracy: 0.8819\n",
            "Testing Accuracy:  0.8500\n"
          ],
          "name": "stdout"
        }
      ]
    },
    {
      "cell_type": "code",
      "metadata": {
        "colab": {
          "base_uri": "https://localhost:8080/"
        },
        "id": "KIyw9SqsUjQi",
        "outputId": "be6238f5-488e-4fa1-ecdb-8b1c828d4ef1"
      },
      "source": [
        "from sklearn import metrics\n",
        "from sklearn.metrics import accuracy_score,recall_score,precision_score,f1_score,confusion_matrix,auc,roc_auc_score,classification_report\n",
        "y_score = model.predict_classes(Test_X)\n",
        "print(y_score.shape)\n",
        "print(\"*\"*10)\n",
        "# y_pred_test = clf.predict(tfidf_test_features)\n",
        "print(\"Confusion matrix \\n\", metrics.confusion_matrix(Test_Y, y_score))\n",
        "cr=classification_report(Test_Y,y_score)\n",
        "print(cr)"
      ],
      "execution_count": null,
      "outputs": [
        {
          "output_type": "stream",
          "text": [
            "/usr/local/lib/python3.7/dist-packages/keras/engine/sequential.py:450: UserWarning: `model.predict_classes()` is deprecated and will be removed after 2021-01-01. Please use instead:* `np.argmax(model.predict(x), axis=-1)`,   if your model does multi-class classification   (e.g. if it uses a `softmax` last-layer activation).* `(model.predict(x) > 0.5).astype(\"int32\")`,   if your model does binary classification   (e.g. if it uses a `sigmoid` last-layer activation).\n",
            "  warnings.warn('`model.predict_classes()` is deprecated and '\n"
          ],
          "name": "stderr"
        },
        {
          "output_type": "stream",
          "text": [
            "(60,)\n",
            "**********\n",
            "Confusion matrix \n",
            " [[14  0  0  0  0  0]\n",
            " [ 3  0  0  0  0  0]\n",
            " [ 0  0  5  0  1  0]\n",
            " [ 0  0  1 13  0  0]\n",
            " [ 0  0  2  0  9  0]\n",
            " [ 2  0  0  0  0 10]]\n",
            "              precision    recall  f1-score   support\n",
            "\n",
            "           0       0.74      1.00      0.85        14\n",
            "           1       0.00      0.00      0.00         3\n",
            "           2       0.62      0.83      0.71         6\n",
            "           3       1.00      0.93      0.96        14\n",
            "           4       0.90      0.82      0.86        11\n",
            "           5       1.00      0.83      0.91        12\n",
            "\n",
            "    accuracy                           0.85        60\n",
            "   macro avg       0.71      0.74      0.72        60\n",
            "weighted avg       0.83      0.85      0.83        60\n",
            "\n"
          ],
          "name": "stdout"
        },
        {
          "output_type": "stream",
          "text": [
            "/usr/local/lib/python3.7/dist-packages/sklearn/metrics/_classification.py:1272: UndefinedMetricWarning: Precision and F-score are ill-defined and being set to 0.0 in labels with no predicted samples. Use `zero_division` parameter to control this behavior.\n",
            "  _warn_prf(average, modifier, msg_start, len(result))\n"
          ],
          "name": "stderr"
        }
      ]
    },
    {
      "cell_type": "code",
      "metadata": {
        "id": "3MM9u2pTUjZ_"
      },
      "source": [
        "# model.save('w2v_model')\n",
        "import pickle\n",
        "pickle.dump(Encoder, open(\"w2v_encoder.pickle\", 'wb'))"
      ],
      "execution_count": null,
      "outputs": []
    },
    {
      "cell_type": "markdown",
      "metadata": {
        "id": "rhdfGBtPIhDI"
      },
      "source": [
        "# Zero Shot experiment"
      ]
    },
    {
      "cell_type": "code",
      "metadata": {
        "colab": {
          "base_uri": "https://localhost:8080/"
        },
        "id": "gp2OcJ5nIiXL",
        "outputId": "bd890340-a68d-4362-e95d-13b9583f0b18"
      },
      "source": [
        "! pip install datasets transformers[sentencepiece]"
      ],
      "execution_count": null,
      "outputs": [
        {
          "output_type": "stream",
          "text": [
            "Collecting datasets\n",
            "\u001b[?25l  Downloading https://files.pythonhosted.org/packages/08/a2/d4e1024c891506e1cee8f9d719d20831bac31cb5b7416983c4d2f65a6287/datasets-1.8.0-py3-none-any.whl (237kB)\n",
            "\u001b[K     |████████████████████████████████| 245kB 7.8MB/s \n",
            "\u001b[?25hCollecting transformers[sentencepiece]\n",
            "\u001b[?25l  Downloading https://files.pythonhosted.org/packages/b5/d5/c6c23ad75491467a9a84e526ef2364e523d45e2b0fae28a7cbe8689e7e84/transformers-4.8.1-py3-none-any.whl (2.5MB)\n",
            "\u001b[K     |████████████████████████████████| 2.5MB 12.7MB/s \n",
            "\u001b[?25hRequirement already satisfied: numpy>=1.17 in /usr/local/lib/python3.7/dist-packages (from datasets) (1.19.5)\n",
            "Requirement already satisfied: dill in /usr/local/lib/python3.7/dist-packages (from datasets) (0.3.4)\n",
            "Collecting fsspec\n",
            "\u001b[?25l  Downloading https://files.pythonhosted.org/packages/0e/3a/666e63625a19883ae8e1674099e631f9737bd5478c4790e5ad49c5ac5261/fsspec-2021.6.1-py3-none-any.whl (115kB)\n",
            "\u001b[K     |████████████████████████████████| 122kB 45.4MB/s \n",
            "\u001b[?25hRequirement already satisfied: pandas in /usr/local/lib/python3.7/dist-packages (from datasets) (1.1.5)\n",
            "Requirement already satisfied: packaging in /usr/local/lib/python3.7/dist-packages (from datasets) (20.9)\n",
            "Requirement already satisfied: pyarrow<4.0.0,>=1.0.0 in /usr/local/lib/python3.7/dist-packages (from datasets) (3.0.0)\n",
            "Requirement already satisfied: multiprocess in /usr/local/lib/python3.7/dist-packages (from datasets) (0.70.12.2)\n",
            "Requirement already satisfied: requests>=2.19.0 in /usr/local/lib/python3.7/dist-packages (from datasets) (2.23.0)\n",
            "Collecting huggingface-hub<0.1.0\n",
            "  Downloading https://files.pythonhosted.org/packages/2f/ee/97e253668fda9b17e968b3f97b2f8e53aa0127e8807d24a547687423fe0b/huggingface_hub-0.0.12-py3-none-any.whl\n",
            "Requirement already satisfied: importlib-metadata; python_version < \"3.8\" in /usr/local/lib/python3.7/dist-packages (from datasets) (4.5.0)\n",
            "Collecting xxhash\n",
            "\u001b[?25l  Downloading https://files.pythonhosted.org/packages/7d/4f/0a862cad26aa2ed7a7cd87178cbbfa824fc1383e472d63596a0d018374e7/xxhash-2.0.2-cp37-cp37m-manylinux2010_x86_64.whl (243kB)\n",
            "\u001b[K     |████████████████████████████████| 245kB 51.0MB/s \n",
            "\u001b[?25hRequirement already satisfied: tqdm<4.50.0,>=4.27 in /usr/local/lib/python3.7/dist-packages (from datasets) (4.41.1)\n",
            "Requirement already satisfied: filelock in /usr/local/lib/python3.7/dist-packages (from transformers[sentencepiece]) (3.0.12)\n",
            "Requirement already satisfied: regex!=2019.12.17 in /usr/local/lib/python3.7/dist-packages (from transformers[sentencepiece]) (2019.12.20)\n",
            "Collecting sacremoses\n",
            "\u001b[?25l  Downloading https://files.pythonhosted.org/packages/75/ee/67241dc87f266093c533a2d4d3d69438e57d7a90abb216fa076e7d475d4a/sacremoses-0.0.45-py3-none-any.whl (895kB)\n",
            "\u001b[K     |████████████████████████████████| 901kB 49.4MB/s \n",
            "\u001b[?25hRequirement already satisfied: pyyaml in /usr/local/lib/python3.7/dist-packages (from transformers[sentencepiece]) (3.13)\n",
            "Collecting tokenizers<0.11,>=0.10.1\n",
            "\u001b[?25l  Downloading https://files.pythonhosted.org/packages/d4/e2/df3543e8ffdab68f5acc73f613de9c2b155ac47f162e725dcac87c521c11/tokenizers-0.10.3-cp37-cp37m-manylinux_2_5_x86_64.manylinux1_x86_64.manylinux_2_12_x86_64.manylinux2010_x86_64.whl (3.3MB)\n",
            "\u001b[K     |████████████████████████████████| 3.3MB 49.5MB/s \n",
            "\u001b[?25hCollecting sentencepiece==0.1.91; extra == \"sentencepiece\"\n",
            "\u001b[?25l  Downloading https://files.pythonhosted.org/packages/f2/e2/813dff3d72df2f49554204e7e5f73a3dc0f0eb1e3958a4cad3ef3fb278b7/sentencepiece-0.1.91-cp37-cp37m-manylinux1_x86_64.whl (1.1MB)\n",
            "\u001b[K     |████████████████████████████████| 1.1MB 46.9MB/s \n",
            "\u001b[?25hRequirement already satisfied: protobuf; extra == \"sentencepiece\" in /usr/local/lib/python3.7/dist-packages (from transformers[sentencepiece]) (3.12.4)\n",
            "Requirement already satisfied: pytz>=2017.2 in /usr/local/lib/python3.7/dist-packages (from pandas->datasets) (2018.9)\n",
            "Requirement already satisfied: python-dateutil>=2.7.3 in /usr/local/lib/python3.7/dist-packages (from pandas->datasets) (2.8.1)\n",
            "Requirement already satisfied: pyparsing>=2.0.2 in /usr/local/lib/python3.7/dist-packages (from packaging->datasets) (2.4.7)\n",
            "Requirement already satisfied: chardet<4,>=3.0.2 in /usr/local/lib/python3.7/dist-packages (from requests>=2.19.0->datasets) (3.0.4)\n",
            "Requirement already satisfied: urllib3!=1.25.0,!=1.25.1,<1.26,>=1.21.1 in /usr/local/lib/python3.7/dist-packages (from requests>=2.19.0->datasets) (1.24.3)\n",
            "Requirement already satisfied: certifi>=2017.4.17 in /usr/local/lib/python3.7/dist-packages (from requests>=2.19.0->datasets) (2021.5.30)\n",
            "Requirement already satisfied: idna<3,>=2.5 in /usr/local/lib/python3.7/dist-packages (from requests>=2.19.0->datasets) (2.10)\n",
            "Requirement already satisfied: typing-extensions in /usr/local/lib/python3.7/dist-packages (from huggingface-hub<0.1.0->datasets) (3.7.4.3)\n",
            "Requirement already satisfied: zipp>=0.5 in /usr/local/lib/python3.7/dist-packages (from importlib-metadata; python_version < \"3.8\"->datasets) (3.4.1)\n",
            "Requirement already satisfied: six in /usr/local/lib/python3.7/dist-packages (from sacremoses->transformers[sentencepiece]) (1.15.0)\n",
            "Requirement already satisfied: joblib in /usr/local/lib/python3.7/dist-packages (from sacremoses->transformers[sentencepiece]) (1.0.1)\n",
            "Requirement already satisfied: click in /usr/local/lib/python3.7/dist-packages (from sacremoses->transformers[sentencepiece]) (7.1.2)\n",
            "Requirement already satisfied: setuptools in /usr/local/lib/python3.7/dist-packages (from protobuf; extra == \"sentencepiece\"->transformers[sentencepiece]) (57.0.0)\n",
            "Installing collected packages: fsspec, huggingface-hub, xxhash, datasets, sacremoses, tokenizers, sentencepiece, transformers\n",
            "Successfully installed datasets-1.8.0 fsspec-2021.6.1 huggingface-hub-0.0.12 sacremoses-0.0.45 sentencepiece-0.1.91 tokenizers-0.10.3 transformers-4.8.1 xxhash-2.0.2\n"
          ],
          "name": "stdout"
        }
      ]
    },
    {
      "cell_type": "code",
      "metadata": {
        "id": "F7dUemSPInSH"
      },
      "source": [
        "from transformers import pipeline\n"
      ],
      "execution_count": null,
      "outputs": []
    },
    {
      "cell_type": "code",
      "metadata": {
        "colab": {
          "base_uri": "https://localhost:8080/",
          "height": 311,
          "referenced_widgets": [
            "89926923801046568da5cf49f64ec60e",
            "64c46fdb06fb4ea6a0effa869b3facf2",
            "917136469d3847fda37c9c110629ece7",
            "75e8cdd096c14104ab2dd8a8b1ad1062",
            "dcd8598c7bc54b8592607d3a59631e2d",
            "45a0ccf903d049598db11c8849b2f3cb",
            "1733bf9eb0424f42867371e4c74e4ae0",
            "2d369ed805c74510a26782c565692564",
            "02afd566d0464457b9f2690f7feaef75",
            "3c46011dda594f74a3a9fc5d074df490",
            "2da9b5bf24f94612a7d1a40054c38695",
            "dfd1464950af412cbe143368d2e0019b",
            "cc0ea2b794b444cd98f9c2e1d76c86e4",
            "e1664d73821047468ba5a4df15cae580",
            "8ca9e0e0d8034d88bcf06ff8e589acd0",
            "a2a5bf62f7e346db808a0f512f0c070d",
            "a2161ecabc6a4a8ab8122962c7f79a53",
            "f97453eaa56344bebf1a02526b8c518d",
            "b460bf214cdc4f4196fbba0b62768f99",
            "c77314b9989b41608c441957edfade58",
            "c89b55d51627445686c28f10bc99a928",
            "cb2ec8486e10480eb693e6ad9292d544",
            "69f61fa1fd9848139b88c2ffff62b8b5",
            "448bb69381284bab8d2910ac01f7c1a9",
            "e0543991865e4e28839b28b48282ee92",
            "41a1e93054af4515a3756a5120fc46d1",
            "4434dad3ae5b4c149655cd767d9741c3",
            "7bd9705d4d654f8886862138dbadf92e",
            "2c3cfc26080b4b6798b3c9c526bfd364",
            "d25250e40e37431f91b1b0acd7e86d8e",
            "9a1503c1166a4da898360867db88bdd9",
            "c823cb3c692542d1895de1d938077b17",
            "de5894b0f0064c0fa18fbb5be443ee32",
            "dd644ca0a6ad4dadac5a6620c584a9b2",
            "485955a4d2844961914a07e691b4bbcb",
            "fb84231af5b44387a30c47e85c6a0dd7",
            "6189f0f20e5d41708a1f3780a43fb7ae",
            "3057f151cd2a43d9bdac2631304a350c",
            "e0e0d7605b5c4ad59dc637dc31e1ace7",
            "d184036967574a768f7869e981279975",
            "8aed7f2e3e944e62804d4de121fd0224",
            "b8b95a9154f04ed081b6bb6d2c968a13",
            "8945d14216d4482899442e8461484de3",
            "76510c09e2804a0897b657ad981e0188",
            "5ad52cea61684d5787aaa8dca70d4598",
            "4eca237f92874654a244da5ca8eb57f4",
            "f5d0603d6a324fb2a96096cf8c4850e7",
            "553fcb74eb1d43e5901d9d910e2d0291"
          ]
        },
        "id": "F98mKCRFIsPV",
        "outputId": "7dbb88e5-0e76-467f-ed30-52c1b070d07b"
      },
      "source": [
        "from transformers import pipeline\n",
        "classifier = pipeline(\"zero-shot-classification\")\n",
        "\n",
        "def get_zero_shot_pred(sent):\n",
        "  op = classifier(\n",
        "      sent,\n",
        "      candidate_labels=[\"Family Finance\", \"Taxes\", \"Job Benefits\", \"Credit Card\", \"Budget\", \"Bank Bailout\"],\n",
        "  )\n",
        "  #print(op)\n",
        "  pred_label = op[\"labels\"][0]\n",
        "  return pred_label"
      ],
      "execution_count": null,
      "outputs": [
        {
          "output_type": "display_data",
          "data": {
            "application/vnd.jupyter.widget-view+json": {
              "model_id": "89926923801046568da5cf49f64ec60e",
              "version_minor": 0,
              "version_major": 2
            },
            "text/plain": [
              "HBox(children=(FloatProgress(value=0.0, description='Downloading', max=1154.0, style=ProgressStyle(description…"
            ]
          },
          "metadata": {
            "tags": []
          }
        },
        {
          "output_type": "stream",
          "text": [
            "\n"
          ],
          "name": "stdout"
        },
        {
          "output_type": "display_data",
          "data": {
            "application/vnd.jupyter.widget-view+json": {
              "model_id": "02afd566d0464457b9f2690f7feaef75",
              "version_minor": 0,
              "version_major": 2
            },
            "text/plain": [
              "HBox(children=(FloatProgress(value=0.0, description='Downloading', max=1629486723.0, style=ProgressStyle(descr…"
            ]
          },
          "metadata": {
            "tags": []
          }
        },
        {
          "output_type": "stream",
          "text": [
            "\n"
          ],
          "name": "stdout"
        },
        {
          "output_type": "display_data",
          "data": {
            "application/vnd.jupyter.widget-view+json": {
              "model_id": "a2161ecabc6a4a8ab8122962c7f79a53",
              "version_minor": 0,
              "version_major": 2
            },
            "text/plain": [
              "HBox(children=(FloatProgress(value=0.0, description='Downloading', max=26.0, style=ProgressStyle(description_w…"
            ]
          },
          "metadata": {
            "tags": []
          }
        },
        {
          "output_type": "stream",
          "text": [
            "\n"
          ],
          "name": "stdout"
        },
        {
          "output_type": "display_data",
          "data": {
            "application/vnd.jupyter.widget-view+json": {
              "model_id": "e0543991865e4e28839b28b48282ee92",
              "version_minor": 0,
              "version_major": 2
            },
            "text/plain": [
              "HBox(children=(FloatProgress(value=0.0, description='Downloading', max=898822.0, style=ProgressStyle(descripti…"
            ]
          },
          "metadata": {
            "tags": []
          }
        },
        {
          "output_type": "stream",
          "text": [
            "\n"
          ],
          "name": "stdout"
        },
        {
          "output_type": "display_data",
          "data": {
            "application/vnd.jupyter.widget-view+json": {
              "model_id": "de5894b0f0064c0fa18fbb5be443ee32",
              "version_minor": 0,
              "version_major": 2
            },
            "text/plain": [
              "HBox(children=(FloatProgress(value=0.0, description='Downloading', max=456318.0, style=ProgressStyle(descripti…"
            ]
          },
          "metadata": {
            "tags": []
          }
        },
        {
          "output_type": "stream",
          "text": [
            "\n"
          ],
          "name": "stdout"
        },
        {
          "output_type": "display_data",
          "data": {
            "application/vnd.jupyter.widget-view+json": {
              "model_id": "8aed7f2e3e944e62804d4de121fd0224",
              "version_minor": 0,
              "version_major": 2
            },
            "text/plain": [
              "HBox(children=(FloatProgress(value=0.0, description='Downloading', max=1355863.0, style=ProgressStyle(descript…"
            ]
          },
          "metadata": {
            "tags": []
          }
        },
        {
          "output_type": "stream",
          "text": [
            "\n"
          ],
          "name": "stdout"
        }
      ]
    },
    {
      "cell_type": "code",
      "metadata": {
        "colab": {
          "base_uri": "https://localhost:8080/",
          "height": 35
        },
        "id": "SgNNU5ZVIu1s",
        "outputId": "cda00cc6-da3f-4e40-d19f-72aad314e85e"
      },
      "source": [
        "# final_df[\"zero_shot_pred\"] = final_df[\"content_processed\"].progress_apply(get_zero_shot_pred)\n",
        "get_zero_shot_pred(\"My ITR filing was delayed\")"
      ],
      "execution_count": null,
      "outputs": [
        {
          "output_type": "execute_result",
          "data": {
            "application/vnd.google.colaboratory.intrinsic+json": {
              "type": "string"
            },
            "text/plain": [
              "'Taxes'"
            ]
          },
          "metadata": {
            "tags": []
          },
          "execution_count": 44
        }
      ]
    },
    {
      "cell_type": "code",
      "metadata": {
        "id": "7Fh45ZDZalTv"
      },
      "source": [
        ""
      ],
      "execution_count": null,
      "outputs": []
    },
    {
      "cell_type": "code",
      "metadata": {
        "id": "evTVHyC8aly5"
      },
      "source": [
        "\n"
      ],
      "execution_count": null,
      "outputs": []
    },
    {
      "cell_type": "code",
      "metadata": {
        "id": "XUaE1rUyamCw"
      },
      "source": [
        ""
      ],
      "execution_count": null,
      "outputs": []
    }
  ]
}